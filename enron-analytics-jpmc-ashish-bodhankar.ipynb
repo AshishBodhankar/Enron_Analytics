{
 "cells": [
  {
   "cell_type": "code",
   "execution_count": 1,
   "id": "80f54be7",
   "metadata": {
    "_cell_guid": "b1076dfc-b9ad-4769-8c92-a6c4dae69d19",
    "_uuid": "8f2839f25d086af736a60e9eeb907d3b93b6e0e5",
    "execution": {
     "iopub.execute_input": "2022-04-16T02:53:03.484758Z",
     "iopub.status.busy": "2022-04-16T02:53:03.484161Z",
     "iopub.status.idle": "2022-04-16T02:53:03.502535Z",
     "shell.execute_reply": "2022-04-16T02:53:03.501798Z"
    },
    "papermill": {
     "duration": 0.085214,
     "end_time": "2022-04-16T02:53:03.505468",
     "exception": false,
     "start_time": "2022-04-16T02:53:03.420254",
     "status": "completed"
    },
    "tags": []
   },
   "outputs": [
    {
     "name": "stdout",
     "output_type": "stream",
     "text": [
      "/kaggle/input/truncated-enron/enron_test.csv\n"
     ]
    }
   ],
   "source": [
    "# This Python 3 environment comes with many helpful analytics libraries installed\n",
    "# It is defined by the kaggle/python Docker image: https://github.com/kaggle/docker-python\n",
    "# For example, here's several helpful packages to load\n",
    "\n",
    "import numpy as np # linear algebra\n",
    "import pandas as pd # data processing, CSV file I/O (e.g. pd.read_csv)\n",
    "\n",
    "# Input data files are available in the read-only \"../input/\" directory\n",
    "# For example, running this (by clicking run or pressing Shift+Enter) will list all files under the input directory\n",
    "\n",
    "import os\n",
    "for dirname, _, filenames in os.walk('/kaggle/input'):\n",
    "    for filename in filenames:\n",
    "        print(os.path.join(dirname, filename))\n",
    "\n",
    "# You can write up to 20GB to the current directory (/kaggle/working/) that gets preserved as output when you create a version using \"Save & Run All\" \n",
    "# You can also write temporary files to /kaggle/temp/, but they won't be saved outside of the current session"
   ]
  },
  {
   "cell_type": "code",
   "execution_count": 2,
   "id": "98bde58d",
   "metadata": {
    "execution": {
     "iopub.execute_input": "2022-04-16T02:53:03.630608Z",
     "iopub.status.busy": "2022-04-16T02:53:03.630029Z",
     "iopub.status.idle": "2022-04-16T02:53:03.683667Z",
     "shell.execute_reply": "2022-04-16T02:53:03.682876Z"
    },
    "papermill": {
     "duration": 0.116999,
     "end_time": "2022-04-16T02:53:03.685542",
     "exception": false,
     "start_time": "2022-04-16T02:53:03.568543",
     "status": "completed"
    },
    "tags": []
   },
   "outputs": [
    {
     "data": {
      "text/html": [
       "<div>\n",
       "<style scoped>\n",
       "    .dataframe tbody tr th:only-of-type {\n",
       "        vertical-align: middle;\n",
       "    }\n",
       "\n",
       "    .dataframe tbody tr th {\n",
       "        vertical-align: top;\n",
       "    }\n",
       "\n",
       "    .dataframe thead th {\n",
       "        text-align: right;\n",
       "    }\n",
       "</style>\n",
       "<table border=\"1\" class=\"dataframe\">\n",
       "  <thead>\n",
       "    <tr style=\"text-align: right;\">\n",
       "      <th></th>\n",
       "      <th>Date</th>\n",
       "      <th>From</th>\n",
       "      <th>To</th>\n",
       "      <th>Subject</th>\n",
       "      <th>content</th>\n",
       "      <th>new_date</th>\n",
       "    </tr>\n",
       "  </thead>\n",
       "  <tbody>\n",
       "    <tr>\n",
       "      <th>0</th>\n",
       "      <td>Mon, 14 May 2001 16:39:00 -0700 (PDT)</td>\n",
       "      <td>frozenset({'phillip.allen@enron.com'})</td>\n",
       "      <td>frozenset({'tim.belden@enron.com'})</td>\n",
       "      <td>NaN</td>\n",
       "      <td>Here is our forecast\\n\\n</td>\n",
       "      <td>2001-05-14 23:39:00</td>\n",
       "    </tr>\n",
       "    <tr>\n",
       "      <th>1</th>\n",
       "      <td>Fri, 4 May 2001 13:51:00 -0700 (PDT)</td>\n",
       "      <td>frozenset({'phillip.allen@enron.com'})</td>\n",
       "      <td>frozenset({'john.lavorato@enron.com'})</td>\n",
       "      <td>Re:</td>\n",
       "      <td>Traveling to have a business meeting takes the...</td>\n",
       "      <td>2001-05-04 20:51:00</td>\n",
       "    </tr>\n",
       "    <tr>\n",
       "      <th>2</th>\n",
       "      <td>Wed, 18 Oct 2000 03:00:00 -0700 (PDT)</td>\n",
       "      <td>frozenset({'phillip.allen@enron.com'})</td>\n",
       "      <td>frozenset({'leah.arsdall@enron.com'})</td>\n",
       "      <td>Re: test</td>\n",
       "      <td>test successful.  way to go!!!</td>\n",
       "      <td>2000-10-18 10:00:00</td>\n",
       "    </tr>\n",
       "    <tr>\n",
       "      <th>3</th>\n",
       "      <td>Mon, 23 Oct 2000 06:13:00 -0700 (PDT)</td>\n",
       "      <td>frozenset({'phillip.allen@enron.com'})</td>\n",
       "      <td>frozenset({'randall.gay@enron.com'})</td>\n",
       "      <td>NaN</td>\n",
       "      <td>Randy,\\n\\n Can you send me a schedule of the s...</td>\n",
       "      <td>2000-10-23 13:13:00</td>\n",
       "    </tr>\n",
       "    <tr>\n",
       "      <th>4</th>\n",
       "      <td>Thu, 31 Aug 2000 05:07:00 -0700 (PDT)</td>\n",
       "      <td>frozenset({'phillip.allen@enron.com'})</td>\n",
       "      <td>frozenset({'greg.piper@enron.com'})</td>\n",
       "      <td>Re: Hello</td>\n",
       "      <td>Let's shoot for Tuesday at 11:45.</td>\n",
       "      <td>2000-08-31 12:07:00</td>\n",
       "    </tr>\n",
       "  </tbody>\n",
       "</table>\n",
       "</div>"
      ],
      "text/plain": [
       "                                    Date  \\\n",
       "0  Mon, 14 May 2001 16:39:00 -0700 (PDT)   \n",
       "1   Fri, 4 May 2001 13:51:00 -0700 (PDT)   \n",
       "2  Wed, 18 Oct 2000 03:00:00 -0700 (PDT)   \n",
       "3  Mon, 23 Oct 2000 06:13:00 -0700 (PDT)   \n",
       "4  Thu, 31 Aug 2000 05:07:00 -0700 (PDT)   \n",
       "\n",
       "                                     From  \\\n",
       "0  frozenset({'phillip.allen@enron.com'})   \n",
       "1  frozenset({'phillip.allen@enron.com'})   \n",
       "2  frozenset({'phillip.allen@enron.com'})   \n",
       "3  frozenset({'phillip.allen@enron.com'})   \n",
       "4  frozenset({'phillip.allen@enron.com'})   \n",
       "\n",
       "                                       To    Subject  \\\n",
       "0     frozenset({'tim.belden@enron.com'})        NaN   \n",
       "1  frozenset({'john.lavorato@enron.com'})        Re:   \n",
       "2   frozenset({'leah.arsdall@enron.com'})   Re: test   \n",
       "3    frozenset({'randall.gay@enron.com'})        NaN   \n",
       "4     frozenset({'greg.piper@enron.com'})  Re: Hello   \n",
       "\n",
       "                                             content             new_date  \n",
       "0                          Here is our forecast\\n\\n   2001-05-14 23:39:00  \n",
       "1  Traveling to have a business meeting takes the...  2001-05-04 20:51:00  \n",
       "2                     test successful.  way to go!!!  2000-10-18 10:00:00  \n",
       "3  Randy,\\n\\n Can you send me a schedule of the s...  2000-10-23 13:13:00  \n",
       "4                Let's shoot for Tuesday at 11:45.    2000-08-31 12:07:00  "
      ]
     },
     "execution_count": 2,
     "metadata": {},
     "output_type": "execute_result"
    }
   ],
   "source": [
    "import datetime\n",
    "df = pd.read_csv('/kaggle/input/truncated-enron/enron_test.csv')\n",
    "df.head(5)"
   ]
  },
  {
   "cell_type": "code",
   "execution_count": 3,
   "id": "21d02626",
   "metadata": {
    "execution": {
     "iopub.execute_input": "2022-04-16T02:53:03.810881Z",
     "iopub.status.busy": "2022-04-16T02:53:03.810562Z",
     "iopub.status.idle": "2022-04-16T02:53:03.834287Z",
     "shell.execute_reply": "2022-04-16T02:53:03.833149Z"
    },
    "papermill": {
     "duration": 0.088634,
     "end_time": "2022-04-16T02:53:03.836923",
     "exception": false,
     "start_time": "2022-04-16T02:53:03.748289",
     "status": "completed"
    },
    "tags": []
   },
   "outputs": [
    {
     "name": "stdout",
     "output_type": "stream",
     "text": [
      "<class 'pandas.core.frame.DataFrame'>\n",
      "RangeIndex: 1000 entries, 0 to 999\n",
      "Data columns (total 6 columns):\n",
      " #   Column    Non-Null Count  Dtype \n",
      "---  ------    --------------  ----- \n",
      " 0   Date      1000 non-null   object\n",
      " 1   From      1000 non-null   object\n",
      " 2   To        995 non-null    object\n",
      " 3   Subject   698 non-null    object\n",
      " 4   content   1000 non-null   object\n",
      " 5   new_date  1000 non-null   object\n",
      "dtypes: object(6)\n",
      "memory usage: 47.0+ KB\n"
     ]
    }
   ],
   "source": [
    "df.info()"
   ]
  },
  {
   "cell_type": "markdown",
   "id": "473dd09a",
   "metadata": {
    "papermill": {
     "duration": 0.061981,
     "end_time": "2022-04-16T02:53:03.960072",
     "exception": false,
     "start_time": "2022-04-16T02:53:03.898091",
     "status": "completed"
    },
    "tags": []
   },
   "source": [
    "### Let us first convert the Date column to a datetime format. We see that the Date column is datetime information as per the Pacific Day Time zone. Since we already have a column \"new_date\" that captures the utc datetime information. We can have the \"Date\" column in PDT. We simply localize it as follows:-"
   ]
  },
  {
   "cell_type": "code",
   "execution_count": 4,
   "id": "eb9d4261",
   "metadata": {
    "execution": {
     "iopub.execute_input": "2022-04-16T02:53:04.084753Z",
     "iopub.status.busy": "2022-04-16T02:53:04.084195Z",
     "iopub.status.idle": "2022-04-16T02:53:05.696539Z",
     "shell.execute_reply": "2022-04-16T02:53:05.695738Z"
    },
    "papermill": {
     "duration": 1.677683,
     "end_time": "2022-04-16T02:53:05.698911",
     "exception": false,
     "start_time": "2022-04-16T02:53:04.021228",
     "status": "completed"
    },
    "tags": []
   },
   "outputs": [],
   "source": [
    "df['new_date'] = df['Date'].apply(lambda x: pd.to_datetime(x,infer_datetime_format=True).tz_convert(None))\n",
    "df['new_date'] = pd.to_datetime(df['new_date'])\n",
    "df.rename(columns={'new_date':'datetime_utc'},inplace=True)\n",
    "df['Date'] = df['Date'].apply(lambda x: (pd.to_datetime(x)).tz_localize(None))"
   ]
  },
  {
   "cell_type": "code",
   "execution_count": 5,
   "id": "8a954c18",
   "metadata": {
    "execution": {
     "iopub.execute_input": "2022-04-16T02:53:05.823668Z",
     "iopub.status.busy": "2022-04-16T02:53:05.822863Z",
     "iopub.status.idle": "2022-04-16T02:53:05.834407Z",
     "shell.execute_reply": "2022-04-16T02:53:05.833818Z"
    },
    "papermill": {
     "duration": 0.075876,
     "end_time": "2022-04-16T02:53:05.836449",
     "exception": false,
     "start_time": "2022-04-16T02:53:05.760573",
     "status": "completed"
    },
    "tags": []
   },
   "outputs": [],
   "source": [
    "## Let us only consider the 'Content' column for topic modelling and exlude 'Subject'. \n",
    "##As 'Subject' is a shortened versions of the content\n",
    "analysis_df = df[['Date','From','To','content']].dropna().copy()\n",
    "analysis_df.reset_index(drop=True,inplace=True)"
   ]
  },
  {
   "cell_type": "code",
   "execution_count": 6,
   "id": "1a787b1a",
   "metadata": {
    "execution": {
     "iopub.execute_input": "2022-04-16T02:53:05.961217Z",
     "iopub.status.busy": "2022-04-16T02:53:05.960754Z",
     "iopub.status.idle": "2022-04-16T02:53:05.971563Z",
     "shell.execute_reply": "2022-04-16T02:53:05.971020Z"
    },
    "papermill": {
     "duration": 0.075507,
     "end_time": "2022-04-16T02:53:05.973377",
     "exception": false,
     "start_time": "2022-04-16T02:53:05.897870",
     "status": "completed"
    },
    "tags": []
   },
   "outputs": [
    {
     "data": {
      "text/html": [
       "<div>\n",
       "<style scoped>\n",
       "    .dataframe tbody tr th:only-of-type {\n",
       "        vertical-align: middle;\n",
       "    }\n",
       "\n",
       "    .dataframe tbody tr th {\n",
       "        vertical-align: top;\n",
       "    }\n",
       "\n",
       "    .dataframe thead th {\n",
       "        text-align: right;\n",
       "    }\n",
       "</style>\n",
       "<table border=\"1\" class=\"dataframe\">\n",
       "  <thead>\n",
       "    <tr style=\"text-align: right;\">\n",
       "      <th></th>\n",
       "      <th>Date</th>\n",
       "      <th>From</th>\n",
       "      <th>To</th>\n",
       "      <th>content</th>\n",
       "    </tr>\n",
       "  </thead>\n",
       "  <tbody>\n",
       "    <tr>\n",
       "      <th>0</th>\n",
       "      <td>2001-05-14 16:39:00</td>\n",
       "      <td>frozenset({'phillip.allen@enron.com'})</td>\n",
       "      <td>frozenset({'tim.belden@enron.com'})</td>\n",
       "      <td>Here is our forecast\\n\\n</td>\n",
       "    </tr>\n",
       "    <tr>\n",
       "      <th>1</th>\n",
       "      <td>2001-05-04 13:51:00</td>\n",
       "      <td>frozenset({'phillip.allen@enron.com'})</td>\n",
       "      <td>frozenset({'john.lavorato@enron.com'})</td>\n",
       "      <td>Traveling to have a business meeting takes the...</td>\n",
       "    </tr>\n",
       "    <tr>\n",
       "      <th>2</th>\n",
       "      <td>2000-10-18 03:00:00</td>\n",
       "      <td>frozenset({'phillip.allen@enron.com'})</td>\n",
       "      <td>frozenset({'leah.arsdall@enron.com'})</td>\n",
       "      <td>test successful.  way to go!!!</td>\n",
       "    </tr>\n",
       "    <tr>\n",
       "      <th>3</th>\n",
       "      <td>2000-10-23 06:13:00</td>\n",
       "      <td>frozenset({'phillip.allen@enron.com'})</td>\n",
       "      <td>frozenset({'randall.gay@enron.com'})</td>\n",
       "      <td>Randy,\\n\\n Can you send me a schedule of the s...</td>\n",
       "    </tr>\n",
       "    <tr>\n",
       "      <th>4</th>\n",
       "      <td>2000-08-31 05:07:00</td>\n",
       "      <td>frozenset({'phillip.allen@enron.com'})</td>\n",
       "      <td>frozenset({'greg.piper@enron.com'})</td>\n",
       "      <td>Let's shoot for Tuesday at 11:45.</td>\n",
       "    </tr>\n",
       "  </tbody>\n",
       "</table>\n",
       "</div>"
      ],
      "text/plain": [
       "                 Date                                    From  \\\n",
       "0 2001-05-14 16:39:00  frozenset({'phillip.allen@enron.com'})   \n",
       "1 2001-05-04 13:51:00  frozenset({'phillip.allen@enron.com'})   \n",
       "2 2000-10-18 03:00:00  frozenset({'phillip.allen@enron.com'})   \n",
       "3 2000-10-23 06:13:00  frozenset({'phillip.allen@enron.com'})   \n",
       "4 2000-08-31 05:07:00  frozenset({'phillip.allen@enron.com'})   \n",
       "\n",
       "                                       To  \\\n",
       "0     frozenset({'tim.belden@enron.com'})   \n",
       "1  frozenset({'john.lavorato@enron.com'})   \n",
       "2   frozenset({'leah.arsdall@enron.com'})   \n",
       "3    frozenset({'randall.gay@enron.com'})   \n",
       "4     frozenset({'greg.piper@enron.com'})   \n",
       "\n",
       "                                             content  \n",
       "0                          Here is our forecast\\n\\n   \n",
       "1  Traveling to have a business meeting takes the...  \n",
       "2                     test successful.  way to go!!!  \n",
       "3  Randy,\\n\\n Can you send me a schedule of the s...  \n",
       "4                Let's shoot for Tuesday at 11:45.    "
      ]
     },
     "execution_count": 6,
     "metadata": {},
     "output_type": "execute_result"
    }
   ],
   "source": [
    "analysis_df.head(5)"
   ]
  },
  {
   "cell_type": "markdown",
   "id": "b2a48579",
   "metadata": {
    "papermill": {
     "duration": 0.064002,
     "end_time": "2022-04-16T02:53:06.099301",
     "exception": false,
     "start_time": "2022-04-16T02:53:06.035299",
     "status": "completed"
    },
    "tags": []
   },
   "source": [
    "# ------------------------------------------ PART 1 ------------------------------------"
   ]
  },
  {
   "cell_type": "markdown",
   "id": "5c0432e2",
   "metadata": {
    "papermill": {
     "duration": 0.062352,
     "end_time": "2022-04-16T02:53:06.223711",
     "exception": false,
     "start_time": "2022-04-16T02:53:06.161359",
     "status": "completed"
    },
    "tags": []
   },
   "source": [
    "## As we can see in the data above, we will be using the content column text to do some topic modelling. This will help us to better understand what kind of topics are mainly discussed in the emails.\n",
    "\n",
    "\n",
    "### To achieve this, we need to begin with some NLP pre-processing steps on the content column to prepare the text for semantic Analysis. We take help of the popular NLTK library as follows:"
   ]
  },
  {
   "cell_type": "code",
   "execution_count": 7,
   "id": "a9a690b7",
   "metadata": {
    "execution": {
     "iopub.execute_input": "2022-04-16T02:53:06.349671Z",
     "iopub.status.busy": "2022-04-16T02:53:06.349225Z",
     "iopub.status.idle": "2022-04-16T02:53:08.389599Z",
     "shell.execute_reply": "2022-04-16T02:53:08.388597Z"
    },
    "papermill": {
     "duration": 2.106251,
     "end_time": "2022-04-16T02:53:08.391905",
     "exception": false,
     "start_time": "2022-04-16T02:53:06.285654",
     "status": "completed"
    },
    "tags": []
   },
   "outputs": [
    {
     "name": "stderr",
     "output_type": "stream",
     "text": [
      "/opt/conda/lib/python3.7/site-packages/past/types/oldstr.py:36: DeprecationWarning: invalid escape sequence \\d\n",
      "  \"\"\"\n"
     ]
    }
   ],
   "source": [
    "# Unsupervised Learning\n",
    "from sklearn.cluster import KMeans\n",
    "from sklearn.feature_extraction.text import TfidfVectorizer,CountVectorizer\n",
    "from sklearn.metrics import adjusted_rand_score\n",
    "from sklearn.decomposition import PCA\n",
    "\n",
    "#NLP\n",
    "import re\n",
    "import gensim\n",
    "from gensim import corpora\n",
    "from gensim.models import TfidfModel\n",
    "from nltk.corpus import stopwords \n",
    "from nltk.stem.wordnet import WordNetLemmatizer\n",
    "import string\n",
    "\n",
    "\n",
    "## to visualize LDA \n",
    "import pyLDAvis\n",
    "import pyLDAvis.gensim\n",
    "\n",
    "## Other\n",
    "import matplotlib.pyplot as plt\n",
    "\n",
    "### Extra - not used libraries\n",
    "#from nltk.tokenize.regexp import RegexpTokenizer\n",
    "#from subprocess import check_output\n",
    "#from nltk.stem.porter import PorterStemmer\n",
    "\n",
    "# from sklearn.cluster import KMeans\n",
    "# from sklearn.decomposition import PCA\n",
    "# from sklearn.lda import LDA\n",
    "# from sklearn.decomposition import LatentDirichletAllocation"
   ]
  },
  {
   "cell_type": "markdown",
   "id": "a6d4dddc",
   "metadata": {
    "papermill": {
     "duration": 0.062022,
     "end_time": "2022-04-16T02:53:08.516481",
     "exception": false,
     "start_time": "2022-04-16T02:53:08.454459",
     "status": "completed"
    },
    "tags": []
   },
   "source": [
    "## We define a helper function to clean the content column that removes unnecessary punctuations, stop words, numbers etc. We then use word Lemmatization to convert inflectional forms of same words to their common base/root form.\n",
    "\n",
    "### example: words like 'democracy', 'democratic', and 'democratization' should be treated as samiliar. Lemmatization usually refers to doing things properly with the use of a vocabulary and morphological analysis of words, normally aiming to remove inflectional endings only and to return the base or dictionary form of a word, which is known as the lemma ."
   ]
  },
  {
   "cell_type": "code",
   "execution_count": 8,
   "id": "753c822b",
   "metadata": {
    "execution": {
     "iopub.execute_input": "2022-04-16T02:53:08.643990Z",
     "iopub.status.busy": "2022-04-16T02:53:08.643415Z",
     "iopub.status.idle": "2022-04-16T02:53:08.654990Z",
     "shell.execute_reply": "2022-04-16T02:53:08.654102Z"
    },
    "papermill": {
     "duration": 0.077571,
     "end_time": "2022-04-16T02:53:08.657021",
     "exception": false,
     "start_time": "2022-04-16T02:53:08.579450",
     "status": "completed"
    },
    "tags": []
   },
   "outputs": [
    {
     "name": "stdout",
     "output_type": "stream",
     "text": [
      "['i', 'me', 'my', 'myself', 'we', 'our', 'ours', 'ourselves', 'you', \"you're\", \"you've\", \"you'll\", \"you'd\", 'your', 'yours', 'yourself', 'yourselves', 'he', 'him', 'his', 'himself', 'she', \"she's\", 'her', 'hers', 'herself', 'it', \"it's\", 'its', 'itself', 'they', 'them', 'their', 'theirs', 'themselves', 'what', 'which', 'who', 'whom', 'this', 'that', \"that'll\", 'these', 'those', 'am', 'is', 'are', 'was', 'were', 'be', 'been', 'being', 'have', 'has', 'had', 'having', 'do', 'does', 'did', 'doing', 'a', 'an', 'the', 'and', 'but', 'if', 'or', 'because', 'as', 'until', 'while', 'of', 'at', 'by', 'for', 'with', 'about', 'against', 'between', 'into', 'through', 'during', 'before', 'after', 'above', 'below', 'to', 'from', 'up', 'down', 'in', 'out', 'on', 'off', 'over', 'under', 'again', 'further', 'then', 'once', 'here', 'there', 'when', 'where', 'why', 'how', 'all', 'any', 'both', 'each', 'few', 'more', 'most', 'other', 'some', 'such', 'no', 'nor', 'not', 'only', 'own', 'same', 'so', 'than', 'too', 'very', 's', 't', 'can', 'will', 'just', 'don', \"don't\", 'should', \"should've\", 'now', 'd', 'll', 'm', 'o', 're', 've', 'y', 'ain', 'aren', \"aren't\", 'couldn', \"couldn't\", 'didn', \"didn't\", 'doesn', \"doesn't\", 'hadn', \"hadn't\", 'hasn', \"hasn't\", 'haven', \"haven't\", 'isn', \"isn't\", 'ma', 'mightn', \"mightn't\", 'mustn', \"mustn't\", 'needn', \"needn't\", 'shan', \"shan't\", 'shouldn', \"shouldn't\", 'wasn', \"wasn't\", 'weren', \"weren't\", 'won', \"won't\", 'wouldn', \"wouldn't\"]\n"
     ]
    }
   ],
   "source": [
    "print(stopwords.words('english')) ### List of all the default stop wordss we will be removing"
   ]
  },
  {
   "cell_type": "code",
   "execution_count": 9,
   "id": "3c881b89",
   "metadata": {
    "execution": {
     "iopub.execute_input": "2022-04-16T02:53:08.785156Z",
     "iopub.status.busy": "2022-04-16T02:53:08.784576Z",
     "iopub.status.idle": "2022-04-16T02:53:08.792547Z",
     "shell.execute_reply": "2022-04-16T02:53:08.791969Z"
    },
    "papermill": {
     "duration": 0.074804,
     "end_time": "2022-04-16T02:53:08.794630",
     "exception": false,
     "start_time": "2022-04-16T02:53:08.719826",
     "status": "completed"
    },
    "tags": []
   },
   "outputs": [],
   "source": [
    "def clean(text):\n",
    "    stop = set(stopwords.words('english'))\n",
    "    stop.update((\"to\",\"cc\",\"subject\",\"http\",\"from\",\"sent\"))\n",
    "    exclude = set(string.punctuation) \n",
    "    lemma = WordNetLemmatizer()\n",
    "    \n",
    "    text=text.rstrip()\n",
    "    text = re.sub(r'[^a-zA-Z]', ' ', text)\n",
    "    stop_free = \" \".join([i for i in text.lower().split() if((i not in stop) and (not i.isdigit()))])\n",
    "    punc_free = ''.join(ch for ch in stop_free if ch not in exclude)\n",
    "    normalized = \" \".join(lemma.lemmatize(word) for word in punc_free.split())\n",
    "    #stem = \" \".join(porter.stem(token) for token in normalized.split())\n",
    "    \n",
    "    return normalized"
   ]
  },
  {
   "cell_type": "code",
   "execution_count": 10,
   "id": "0971a626",
   "metadata": {
    "execution": {
     "iopub.execute_input": "2022-04-16T02:53:08.922912Z",
     "iopub.status.busy": "2022-04-16T02:53:08.922359Z",
     "iopub.status.idle": "2022-04-16T02:53:11.993570Z",
     "shell.execute_reply": "2022-04-16T02:53:11.992504Z"
    },
    "papermill": {
     "duration": 3.138306,
     "end_time": "2022-04-16T02:53:11.996036",
     "exception": false,
     "start_time": "2022-04-16T02:53:08.857730",
     "status": "completed"
    },
    "tags": []
   },
   "outputs": [],
   "source": [
    "# Apply the helper function to on the content array and get the cleaned corpus that we use to define the vocabulary\n",
    "text_clean=[]\n",
    "for text in analysis_df['content']:\n",
    "    text_clean.append(clean(text).split())"
   ]
  },
  {
   "cell_type": "code",
   "execution_count": 11,
   "id": "8a3e04e7",
   "metadata": {
    "execution": {
     "iopub.execute_input": "2022-04-16T02:53:12.125923Z",
     "iopub.status.busy": "2022-04-16T02:53:12.125370Z",
     "iopub.status.idle": "2022-04-16T02:53:12.130935Z",
     "shell.execute_reply": "2022-04-16T02:53:12.130195Z"
    },
    "papermill": {
     "duration": 0.074018,
     "end_time": "2022-04-16T02:53:12.133853",
     "exception": false,
     "start_time": "2022-04-16T02:53:12.059835",
     "status": "completed"
    },
    "tags": []
   },
   "outputs": [
    {
     "name": "stdout",
     "output_type": "stream",
     "text": [
      "['traveling', 'business', 'meeting', 'take', 'fun', 'trip', 'especially', 'prepare', 'presentation', 'would', 'suggest', 'holding', 'business', 'plan', 'meeting', 'take', 'trip', 'without', 'formal', 'business', 'meeting', 'would', 'even', 'try', 'get', 'honest', 'opinion', 'whether', 'trip', 'even', 'desired', 'necessary', 'far', 'business', 'meeting', 'think', 'would', 'productive', 'try', 'stimulate', 'discussion', 'across', 'different', 'group', 'working', 'often', 'presenter', 'speaks', 'others', 'quiet', 'waiting', 'turn', 'meeting', 'might', 'better', 'held', 'round', 'table', 'discussion', 'format', 'suggestion', 'go', 'austin', 'play', 'golf', 'rent', 'ski', 'boat', 'jet', 'ski', 'flying', 'somewhere', 'take', 'much', 'time']\n",
      "Traveling to have a business meeting takes the fun out of the trip.  Especially if you have to prepare a presentation.  I would suggest holding the business plan meetings here then take a trip without any formal business meetings.  I would even try and get some honest opinions on whether a trip is even desired or necessary.\n",
      "\n",
      "As far as the business meetings, I think it would be more productive to try and stimulate discussions across the different groups about what is working and what is not.  Too often the presenter speaks and the others are quiet just waiting for their turn.   The meetings might be better if held in a round table discussion format.  \n",
      "\n",
      "My suggestion for where to go is Austin.  Play golf and rent a ski boat and jet ski's.  Flying somewhere takes too much time.\n",
      "\n"
     ]
    }
   ],
   "source": [
    "print(text_clean[1])\n",
    "print(analysis_df['content'].loc[1])"
   ]
  },
  {
   "cell_type": "markdown",
   "id": "ed349195",
   "metadata": {
    "papermill": {
     "duration": 0.062922,
     "end_time": "2022-04-16T02:53:12.262592",
     "exception": false,
     "start_time": "2022-04-16T02:53:12.199670",
     "status": "completed"
    },
    "tags": []
   },
   "source": [
    "### Let us add some Bigrams and Trigrams into the mix."
   ]
  },
  {
   "cell_type": "code",
   "execution_count": 12,
   "id": "afef165a",
   "metadata": {
    "execution": {
     "iopub.execute_input": "2022-04-16T02:53:12.392991Z",
     "iopub.status.busy": "2022-04-16T02:53:12.392722Z",
     "iopub.status.idle": "2022-04-16T02:53:13.549727Z",
     "shell.execute_reply": "2022-04-16T02:53:13.548771Z"
    },
    "papermill": {
     "duration": 1.225681,
     "end_time": "2022-04-16T02:53:13.551956",
     "exception": false,
     "start_time": "2022-04-16T02:53:12.326275",
     "status": "completed"
    },
    "tags": []
   },
   "outputs": [
    {
     "name": "stdout",
     "output_type": "stream",
     "text": [
      "['jacques', 'think', 'reached', 'agreement', 'george_larry', 'pick', 'item', 'value', 'pay', 'fee', 'time', 'look', 'able', 'use', 'everything', 'done', 'engineering', 'architecture', 'survey', 'appraisal', 'one', 'point', 'unclear', 'claim', 'extension', 'paid', 'applied', 'purchase', 'price', 'land', 'like', 'earnest', 'money', 'would', 'applied', 'looked', 'closing_statement', 'see', 'applied', 'purchase', 'price', 'help', 'clear', 'assuming', 'clear', 'need', 'get', 'property', 'released', 'keith', 'concerned', 'taking', 'bishop_corner', 'partnership', 'risk', 'could', 'undisclosed', 'liability', 'hand', 'conveyance', 'partnership', 'would', 'time', 'money', 'saver', 'clean', 'inclination', 'call', 'soon', 'chance', 'review', 'phillip']\n"
     ]
    }
   ],
   "source": [
    "## BIGRAMS AND TRIGRAMS\n",
    "bigrams_phrases = gensim.models.Phrases(text_clean,min_count=5,threshold=50)\n",
    "trigram_phrases = gensim.models.Phrases(bigrams_phrases[text_clean],threshold=50)\n",
    "\n",
    "bigram = gensim.models.phrases.Phraser(bigrams_phrases)\n",
    "trigram = gensim.models.phrases.Phraser(trigram_phrases)\n",
    "\n",
    "def make_bigrams(texts):\n",
    "    return [bigram[doc] for doc in texts]\n",
    "\n",
    "def make_trigrams(texts):\n",
    "    return [trigram[bigram[doc]] for doc in texts]\n",
    "\n",
    "data_bigrams = make_bigrams(text_clean)\n",
    "data_bigrams_trigrams = make_trigrams(data_bigrams)\n",
    "\n",
    "print(data_bigrams_trigrams[993])"
   ]
  },
  {
   "cell_type": "markdown",
   "id": "592a304c",
   "metadata": {
    "papermill": {
     "duration": 0.064234,
     "end_time": "2022-04-16T02:53:13.682201",
     "exception": false,
     "start_time": "2022-04-16T02:53:13.617967",
     "status": "completed"
    },
    "tags": []
   },
   "source": [
    "## Now that we have clean documents of each email, we can do latent sematic Analysis by using Tf-idf vectorization of email texts followed by using unsupervised algorithms like K-Means Clustering to identify the optimum number of clusters that best separates the data in Least Square sense."
   ]
  },
  {
   "cell_type": "code",
   "execution_count": 13,
   "id": "40760135",
   "metadata": {
    "execution": {
     "iopub.execute_input": "2022-04-16T02:53:13.837659Z",
     "iopub.status.busy": "2022-04-16T02:53:13.837226Z",
     "iopub.status.idle": "2022-04-16T02:53:13.842717Z",
     "shell.execute_reply": "2022-04-16T02:53:13.842125Z"
    },
    "papermill": {
     "duration": 0.091952,
     "end_time": "2022-04-16T02:53:13.844689",
     "exception": false,
     "start_time": "2022-04-16T02:53:13.752737",
     "status": "completed"
    },
    "tags": []
   },
   "outputs": [],
   "source": [
    "## Let us keep this column later for performing LDA\n",
    "analysis_df['content_cleaned'] = pd.Series(data_bigrams_trigrams,index=analysis_df.index)"
   ]
  },
  {
   "cell_type": "code",
   "execution_count": 14,
   "id": "ab6097cd",
   "metadata": {
    "execution": {
     "iopub.execute_input": "2022-04-16T02:53:13.973840Z",
     "iopub.status.busy": "2022-04-16T02:53:13.973414Z",
     "iopub.status.idle": "2022-04-16T02:53:14.252216Z",
     "shell.execute_reply": "2022-04-16T02:53:14.251151Z"
    },
    "papermill": {
     "duration": 0.346311,
     "end_time": "2022-04-16T02:53:14.254650",
     "exception": false,
     "start_time": "2022-04-16T02:53:13.908339",
     "status": "completed"
    },
    "tags": []
   },
   "outputs": [
    {
     "name": "stderr",
     "output_type": "stream",
     "text": [
      "/opt/conda/lib/python3.7/site-packages/sklearn/utils/deprecation.py:87: FutureWarning: Function get_feature_names is deprecated; get_feature_names is deprecated in 1.0 and will be removed in 1.2. Please use get_feature_names_out instead.\n",
      "  warnings.warn(msg, category=FutureWarning)\n"
     ]
    }
   ],
   "source": [
    "eng_stopwords = set(stopwords.words('english'))\n",
    "def clean_text(text):\n",
    "    #text = BeautifulSoup(text, 'html.parser').get_text()\n",
    "    text = re.sub(r'[^a-zA-Z]', ' ', text)\n",
    "    words = text.lower().split()\n",
    "    words = [w for w in words if w not in eng_stopwords]\n",
    "    return ' '.join(words)\n",
    "\n",
    "analysis_df[\"clean_content\"]=analysis_df.content.apply(clean_text)\n",
    "\n",
    "wordvector = TfidfVectorizer(analyzer='word', stop_words='english', max_df=0.4, min_df=5)\n",
    "wordvector_fit = wordvector.fit_transform(analysis_df['clean_content'])\n",
    "feature = wordvector.get_feature_names()"
   ]
  },
  {
   "cell_type": "code",
   "execution_count": 15,
   "id": "82bedf60",
   "metadata": {
    "execution": {
     "iopub.execute_input": "2022-04-16T02:53:14.385226Z",
     "iopub.status.busy": "2022-04-16T02:53:14.384677Z",
     "iopub.status.idle": "2022-04-16T02:53:14.411933Z",
     "shell.execute_reply": "2022-04-16T02:53:14.410976Z"
    },
    "papermill": {
     "duration": 0.095717,
     "end_time": "2022-04-16T02:53:14.414323",
     "exception": false,
     "start_time": "2022-04-16T02:53:14.318606",
     "status": "completed"
    },
    "tags": []
   },
   "outputs": [],
   "source": [
    "wordvector_fit_2d = wordvector_fit.todense()"
   ]
  },
  {
   "cell_type": "code",
   "execution_count": 16,
   "id": "7c600fbb",
   "metadata": {
    "execution": {
     "iopub.execute_input": "2022-04-16T02:53:14.544559Z",
     "iopub.status.busy": "2022-04-16T02:53:14.543958Z",
     "iopub.status.idle": "2022-04-16T02:53:14.548650Z",
     "shell.execute_reply": "2022-04-16T02:53:14.548111Z"
    },
    "papermill": {
     "duration": 0.072131,
     "end_time": "2022-04-16T02:53:14.550314",
     "exception": false,
     "start_time": "2022-04-16T02:53:14.478183",
     "status": "completed"
    },
    "tags": []
   },
   "outputs": [
    {
     "data": {
      "text/plain": [
       "(995, 2439)"
      ]
     },
     "execution_count": 16,
     "metadata": {},
     "output_type": "execute_result"
    }
   ],
   "source": [
    "wordvector_fit_2d.shape"
   ]
  },
  {
   "cell_type": "markdown",
   "id": "2c6b66c8",
   "metadata": {
    "papermill": {
     "duration": 0.064056,
     "end_time": "2022-04-16T02:53:14.678635",
     "exception": false,
     "start_time": "2022-04-16T02:53:14.614579",
     "status": "completed"
    },
    "tags": []
   },
   "source": [
    "### Now I wanted to find out what the top keywords were in those emails. I made this function doing exactly that:"
   ]
  },
  {
   "cell_type": "code",
   "execution_count": 17,
   "id": "f33c29e5",
   "metadata": {
    "execution": {
     "iopub.execute_input": "2022-04-16T02:53:14.810932Z",
     "iopub.status.busy": "2022-04-16T02:53:14.809906Z",
     "iopub.status.idle": "2022-04-16T02:53:14.821379Z",
     "shell.execute_reply": "2022-04-16T02:53:14.820727Z"
    },
    "papermill": {
     "duration": 0.08018,
     "end_time": "2022-04-16T02:53:14.823332",
     "exception": false,
     "start_time": "2022-04-16T02:53:14.743152",
     "status": "completed"
    },
    "tags": []
   },
   "outputs": [
    {
     "name": "stdout",
     "output_type": "stream",
     "text": [
      "    features     score\n",
      "0    october  0.424702\n",
      "1     second  0.385953\n",
      "2    payment  0.379968\n",
      "3     brenda  0.353033\n",
      "4      check  0.343167\n",
      "5       mail  0.286046\n",
      "6        use  0.267544\n",
      "7        let  0.265310\n",
      "8       know  0.245163\n",
      "9  financail  0.000000\n"
     ]
    }
   ],
   "source": [
    "def top_tfidf_feats(row, features, top_n=20):\n",
    "    topn_ids = np.argsort(row)[::-1][:top_n]\n",
    "    top_feats = [(features[i], row[i]) for i in topn_ids]\n",
    "    df = pd.DataFrame(top_feats, columns=['features', 'score'])\n",
    "    return df\n",
    "\n",
    "def top_feats_in_doc(X, features, row_id, top_n=25):\n",
    "    row = np.squeeze(np.asarray(X[row_id]))\n",
    "    return top_tfidf_feats(row, features, top_n)\n",
    "\n",
    "print(top_feats_in_doc(wordvector_fit_2d, feature, 20, 10))"
   ]
  },
  {
   "cell_type": "code",
   "execution_count": 18,
   "id": "927cae62",
   "metadata": {
    "execution": {
     "iopub.execute_input": "2022-04-16T02:53:14.955264Z",
     "iopub.status.busy": "2022-04-16T02:53:14.954958Z",
     "iopub.status.idle": "2022-04-16T02:53:14.960509Z",
     "shell.execute_reply": "2022-04-16T02:53:14.959780Z"
    },
    "papermill": {
     "duration": 0.073896,
     "end_time": "2022-04-16T02:53:14.962356",
     "exception": false,
     "start_time": "2022-04-16T02:53:14.888460",
     "status": "completed"
    },
    "tags": []
   },
   "outputs": [
    {
     "data": {
      "text/plain": [
       "'brenda please use second check october payment already tossed let know mail another phillip'"
      ]
     },
     "execution_count": 18,
     "metadata": {},
     "output_type": "execute_result"
    }
   ],
   "source": [
    "analysis_df['clean_content'].iloc[20]"
   ]
  },
  {
   "cell_type": "markdown",
   "id": "4c36ce5a",
   "metadata": {
    "papermill": {
     "duration": 0.066856,
     "end_time": "2022-04-16T02:53:15.093954",
     "exception": false,
     "start_time": "2022-04-16T02:53:15.027098",
     "status": "completed"
    },
    "tags": []
   },
   "source": [
    "### All making sense if you look into the corresponding email.\n",
    "\n",
    "'brenda please use **second** check **october payment** already tossed let know mail another phillip'"
   ]
  },
  {
   "cell_type": "markdown",
   "id": "8acf50ed",
   "metadata": {
    "papermill": {
     "duration": 0.065187,
     "end_time": "2022-04-16T02:53:15.226131",
     "exception": false,
     "start_time": "2022-04-16T02:53:15.160944",
     "status": "completed"
    },
    "tags": []
   },
   "source": [
    "### The next step was writing a function to get the top terms out of all the emails."
   ]
  },
  {
   "cell_type": "code",
   "execution_count": 19,
   "id": "ccda2916",
   "metadata": {
    "execution": {
     "iopub.execute_input": "2022-04-16T02:53:15.361942Z",
     "iopub.status.busy": "2022-04-16T02:53:15.361085Z",
     "iopub.status.idle": "2022-04-16T02:53:15.366945Z",
     "shell.execute_reply": "2022-04-16T02:53:15.366234Z"
    },
    "papermill": {
     "duration": 0.075286,
     "end_time": "2022-04-16T02:53:15.369036",
     "exception": false,
     "start_time": "2022-04-16T02:53:15.293750",
     "status": "completed"
    },
    "tags": []
   },
   "outputs": [],
   "source": [
    "def top_mean_feats(X, features,grp_ids=None, min_tfidf=0.1, top_n=25):\n",
    "    if grp_ids:\n",
    "        D = np.asarray(X[grp_ids])\n",
    "    else:\n",
    "        D = np.asarray(X)\n",
    "        \n",
    "    D[D < min_tfidf] = 0\n",
    "    \n",
    "    tfidf_means = np.mean(D, axis=0)\n",
    "    \n",
    "    return top_tfidf_feats(tfidf_means, features, top_n)"
   ]
  },
  {
   "cell_type": "markdown",
   "id": "f872a438",
   "metadata": {
    "papermill": {
     "duration": 0.065514,
     "end_time": "2022-04-16T02:53:15.501908",
     "exception": false,
     "start_time": "2022-04-16T02:53:15.436394",
     "status": "completed"
    },
    "tags": []
   },
   "source": [
    "#### Returning the top terms out of all the emails."
   ]
  },
  {
   "cell_type": "code",
   "execution_count": 20,
   "id": "4446d92c",
   "metadata": {
    "execution": {
     "iopub.execute_input": "2022-04-16T02:53:15.635909Z",
     "iopub.status.busy": "2022-04-16T02:53:15.635097Z",
     "iopub.status.idle": "2022-04-16T02:53:15.656381Z",
     "shell.execute_reply": "2022-04-16T02:53:15.655718Z"
    },
    "papermill": {
     "duration": 0.090345,
     "end_time": "2022-04-16T02:53:15.658533",
     "exception": false,
     "start_time": "2022-04-16T02:53:15.568188",
     "status": "completed"
    },
    "tags": []
   },
   "outputs": [
    {
     "name": "stdout",
     "output_type": "stream",
     "text": [
      "  features     score\n",
      "0      ect  0.088610\n",
      "1      hou  0.048033\n",
      "2    enron  0.044252\n",
      "3      com  0.032715\n",
      "4       pm  0.015916\n",
      "5      gas  0.014635\n",
      "6    email  0.013626\n",
      "7     need  0.013089\n",
      "8     lucy  0.013084\n",
      "9   thanks  0.012055\n"
     ]
    }
   ],
   "source": [
    "print(top_mean_feats(wordvector_fit_2d, feature, top_n=10))"
   ]
  },
  {
   "cell_type": "markdown",
   "id": "5bbf911d",
   "metadata": {
    "papermill": {
     "duration": 0.066024,
     "end_time": "2022-04-16T02:53:15.790202",
     "exception": false,
     "start_time": "2022-04-16T02:53:15.724178",
     "status": "completed"
    },
    "tags": []
   },
   "source": [
    "## Clustering with kmeans"
   ]
  },
  {
   "cell_type": "code",
   "execution_count": 21,
   "id": "4a876fc7",
   "metadata": {
    "execution": {
     "iopub.execute_input": "2022-04-16T02:53:15.923235Z",
     "iopub.status.busy": "2022-04-16T02:53:15.922661Z",
     "iopub.status.idle": "2022-04-16T02:53:42.143573Z",
     "shell.execute_reply": "2022-04-16T02:53:42.142612Z"
    },
    "papermill": {
     "duration": 26.290455,
     "end_time": "2022-04-16T02:53:42.146193",
     "exception": false,
     "start_time": "2022-04-16T02:53:15.855738",
     "status": "completed"
    },
    "tags": []
   },
   "outputs": [
    {
     "name": "stderr",
     "output_type": "stream",
     "text": [
      "/opt/conda/lib/python3.7/site-packages/sklearn/utils/validation.py:598: FutureWarning: np.matrix usage is deprecated in 1.0 and will raise a TypeError in 1.2. Please convert to a numpy array with np.asarray. For more information see: https://numpy.org/doc/stable/reference/generated/numpy.matrix.html\n",
      "  FutureWarning,\n",
      "/opt/conda/lib/python3.7/site-packages/sklearn/utils/validation.py:598: FutureWarning: np.matrix usage is deprecated in 1.0 and will raise a TypeError in 1.2. Please convert to a numpy array with np.asarray. For more information see: https://numpy.org/doc/stable/reference/generated/numpy.matrix.html\n",
      "  FutureWarning,\n",
      "/opt/conda/lib/python3.7/site-packages/sklearn/utils/validation.py:598: FutureWarning: np.matrix usage is deprecated in 1.0 and will raise a TypeError in 1.2. Please convert to a numpy array with np.asarray. For more information see: https://numpy.org/doc/stable/reference/generated/numpy.matrix.html\n",
      "  FutureWarning,\n",
      "/opt/conda/lib/python3.7/site-packages/sklearn/utils/validation.py:598: FutureWarning: np.matrix usage is deprecated in 1.0 and will raise a TypeError in 1.2. Please convert to a numpy array with np.asarray. For more information see: https://numpy.org/doc/stable/reference/generated/numpy.matrix.html\n",
      "  FutureWarning,\n",
      "/opt/conda/lib/python3.7/site-packages/sklearn/utils/validation.py:598: FutureWarning: np.matrix usage is deprecated in 1.0 and will raise a TypeError in 1.2. Please convert to a numpy array with np.asarray. For more information see: https://numpy.org/doc/stable/reference/generated/numpy.matrix.html\n",
      "  FutureWarning,\n",
      "/opt/conda/lib/python3.7/site-packages/sklearn/utils/validation.py:598: FutureWarning: np.matrix usage is deprecated in 1.0 and will raise a TypeError in 1.2. Please convert to a numpy array with np.asarray. For more information see: https://numpy.org/doc/stable/reference/generated/numpy.matrix.html\n",
      "  FutureWarning,\n",
      "/opt/conda/lib/python3.7/site-packages/sklearn/utils/validation.py:598: FutureWarning: np.matrix usage is deprecated in 1.0 and will raise a TypeError in 1.2. Please convert to a numpy array with np.asarray. For more information see: https://numpy.org/doc/stable/reference/generated/numpy.matrix.html\n",
      "  FutureWarning,\n",
      "/opt/conda/lib/python3.7/site-packages/sklearn/utils/validation.py:598: FutureWarning: np.matrix usage is deprecated in 1.0 and will raise a TypeError in 1.2. Please convert to a numpy array with np.asarray. For more information see: https://numpy.org/doc/stable/reference/generated/numpy.matrix.html\n",
      "  FutureWarning,\n",
      "/opt/conda/lib/python3.7/site-packages/sklearn/utils/validation.py:598: FutureWarning: np.matrix usage is deprecated in 1.0 and will raise a TypeError in 1.2. Please convert to a numpy array with np.asarray. For more information see: https://numpy.org/doc/stable/reference/generated/numpy.matrix.html\n",
      "  FutureWarning,\n",
      "/opt/conda/lib/python3.7/site-packages/sklearn/utils/validation.py:598: FutureWarning: np.matrix usage is deprecated in 1.0 and will raise a TypeError in 1.2. Please convert to a numpy array with np.asarray. For more information see: https://numpy.org/doc/stable/reference/generated/numpy.matrix.html\n",
      "  FutureWarning,\n",
      "/opt/conda/lib/python3.7/site-packages/sklearn/utils/validation.py:598: FutureWarning: np.matrix usage is deprecated in 1.0 and will raise a TypeError in 1.2. Please convert to a numpy array with np.asarray. For more information see: https://numpy.org/doc/stable/reference/generated/numpy.matrix.html\n",
      "  FutureWarning,\n",
      "/opt/conda/lib/python3.7/site-packages/sklearn/utils/validation.py:598: FutureWarning: np.matrix usage is deprecated in 1.0 and will raise a TypeError in 1.2. Please convert to a numpy array with np.asarray. For more information see: https://numpy.org/doc/stable/reference/generated/numpy.matrix.html\n",
      "  FutureWarning,\n",
      "/opt/conda/lib/python3.7/site-packages/sklearn/utils/validation.py:598: FutureWarning: np.matrix usage is deprecated in 1.0 and will raise a TypeError in 1.2. Please convert to a numpy array with np.asarray. For more information see: https://numpy.org/doc/stable/reference/generated/numpy.matrix.html\n",
      "  FutureWarning,\n",
      "/opt/conda/lib/python3.7/site-packages/sklearn/utils/validation.py:598: FutureWarning: np.matrix usage is deprecated in 1.0 and will raise a TypeError in 1.2. Please convert to a numpy array with np.asarray. For more information see: https://numpy.org/doc/stable/reference/generated/numpy.matrix.html\n",
      "  FutureWarning,\n"
     ]
    }
   ],
   "source": [
    "Sum_of_squared_distances = []\n",
    "K = range(1,15)\n",
    "for k in K:\n",
    "    km = KMeans(n_clusters=k,max_iter=50,init='k-means++',n_init=10)\n",
    "    km = km.fit(wordvector_fit_2d)\n",
    "    Sum_of_squared_distances.append(km.inertia_)"
   ]
  },
  {
   "cell_type": "code",
   "execution_count": 22,
   "id": "ea1016c8",
   "metadata": {
    "execution": {
     "iopub.execute_input": "2022-04-16T02:53:42.293512Z",
     "iopub.status.busy": "2022-04-16T02:53:42.293171Z",
     "iopub.status.idle": "2022-04-16T02:53:42.507072Z",
     "shell.execute_reply": "2022-04-16T02:53:42.506207Z"
    },
    "papermill": {
     "duration": 0.289534,
     "end_time": "2022-04-16T02:53:42.509254",
     "exception": false,
     "start_time": "2022-04-16T02:53:42.219720",
     "status": "completed"
    },
    "tags": []
   },
   "outputs": [
    {
     "data": {
      "image/png": "[encoded data removed]",
      "text/plain": [
       "<Figure size 432x288 with 1 Axes>"
      ]
     },
     "metadata": {
      "needs_background": "light"
     },
     "output_type": "display_data"
    }
   ],
   "source": [
    "plt.plot(K, Sum_of_squared_distances, 'bx-')\n",
    "plt.xlabel('k')\n",
    "plt.ylabel('Sum_of_squared_distances')\n",
    "plt.title('Elbow Method For Optimal k')\n",
    "plt.show()"
   ]
  },
  {
   "cell_type": "markdown",
   "id": "55bb7d28",
   "metadata": {
    "papermill": {
     "duration": 0.072572,
     "end_time": "2022-04-16T02:53:42.654737",
     "exception": false,
     "start_time": "2022-04-16T02:53:42.582165",
     "status": "completed"
    },
    "tags": []
   },
   "source": [
    "\n",
    "### We see that the curve elbows at k = 4. We can remember this piece of imformation for further topic modelling"
   ]
  },
  {
   "cell_type": "code",
   "execution_count": 23,
   "id": "6e11568c",
   "metadata": {
    "execution": {
     "iopub.execute_input": "2022-04-16T02:53:42.802502Z",
     "iopub.status.busy": "2022-04-16T02:53:42.802208Z",
     "iopub.status.idle": "2022-04-16T02:53:44.862554Z",
     "shell.execute_reply": "2022-04-16T02:53:44.861632Z"
    },
    "papermill": {
     "duration": 2.137668,
     "end_time": "2022-04-16T02:53:44.865190",
     "exception": false,
     "start_time": "2022-04-16T02:53:42.727522",
     "status": "completed"
    },
    "tags": []
   },
   "outputs": [
    {
     "name": "stderr",
     "output_type": "stream",
     "text": [
      "/opt/conda/lib/python3.7/site-packages/sklearn/utils/validation.py:598: FutureWarning: np.matrix usage is deprecated in 1.0 and will raise a TypeError in 1.2. Please convert to a numpy array with np.asarray. For more information see: https://numpy.org/doc/stable/reference/generated/numpy.matrix.html\n",
      "  FutureWarning,\n",
      "/opt/conda/lib/python3.7/site-packages/sklearn/utils/validation.py:598: FutureWarning: np.matrix usage is deprecated in 1.0 and will raise a TypeError in 1.2. Please convert to a numpy array with np.asarray. For more information see: https://numpy.org/doc/stable/reference/generated/numpy.matrix.html\n",
      "  FutureWarning,\n",
      "/opt/conda/lib/python3.7/site-packages/sklearn/utils/validation.py:598: FutureWarning: np.matrix usage is deprecated in 1.0 and will raise a TypeError in 1.2. Please convert to a numpy array with np.asarray. For more information see: https://numpy.org/doc/stable/reference/generated/numpy.matrix.html\n",
      "  FutureWarning,\n"
     ]
    }
   ],
   "source": [
    "pca = PCA(n_components=2).fit(wordvector_fit_2d)\n",
    "datapoint = pca.transform(wordvector_fit_2d)\n",
    "\n",
    "N = 3\n",
    "clf = KMeans(n_clusters=N, \n",
    "            max_iter=300, \n",
    "            init='k-means++', \n",
    "            n_init=10)\n",
    "labels = clf.fit_predict(wordvector_fit_2d)"
   ]
  },
  {
   "cell_type": "code",
   "execution_count": 24,
   "id": "b5d43132",
   "metadata": {
    "execution": {
     "iopub.execute_input": "2022-04-16T02:53:45.015994Z",
     "iopub.status.busy": "2022-04-16T02:53:45.015007Z",
     "iopub.status.idle": "2022-04-16T02:53:45.021211Z",
     "shell.execute_reply": "2022-04-16T02:53:45.020411Z"
    },
    "papermill": {
     "duration": 0.083586,
     "end_time": "2022-04-16T02:53:45.023272",
     "exception": false,
     "start_time": "2022-04-16T02:53:44.939686",
     "status": "completed"
    },
    "tags": []
   },
   "outputs": [],
   "source": [
    "analysis_df['cluster'] = pd.Series(labels,index=analysis_df.index)"
   ]
  },
  {
   "cell_type": "code",
   "execution_count": 25,
   "id": "274267fd",
   "metadata": {
    "execution": {
     "iopub.execute_input": "2022-04-16T02:53:45.170676Z",
     "iopub.status.busy": "2022-04-16T02:53:45.169976Z",
     "iopub.status.idle": "2022-04-16T02:53:45.187933Z",
     "shell.execute_reply": "2022-04-16T02:53:45.187132Z"
    },
    "papermill": {
     "duration": 0.094154,
     "end_time": "2022-04-16T02:53:45.191013",
     "exception": false,
     "start_time": "2022-04-16T02:53:45.096859",
     "status": "completed"
    },
    "tags": []
   },
   "outputs": [
    {
     "data": {
      "text/html": [
       "<div>\n",
       "<style scoped>\n",
       "    .dataframe tbody tr th:only-of-type {\n",
       "        vertical-align: middle;\n",
       "    }\n",
       "\n",
       "    .dataframe tbody tr th {\n",
       "        vertical-align: top;\n",
       "    }\n",
       "\n",
       "    .dataframe thead th {\n",
       "        text-align: right;\n",
       "    }\n",
       "</style>\n",
       "<table border=\"1\" class=\"dataframe\">\n",
       "  <thead>\n",
       "    <tr style=\"text-align: right;\">\n",
       "      <th></th>\n",
       "      <th>Date</th>\n",
       "      <th>From</th>\n",
       "      <th>To</th>\n",
       "      <th>content</th>\n",
       "      <th>content_cleaned</th>\n",
       "      <th>clean_content</th>\n",
       "      <th>cluster</th>\n",
       "    </tr>\n",
       "  </thead>\n",
       "  <tbody>\n",
       "    <tr>\n",
       "      <th>990</th>\n",
       "      <td>2001-03-19 01:36:00</td>\n",
       "      <td>frozenset({'phillip.allen@enron.com'})</td>\n",
       "      <td>frozenset({'jacquestc@aol.com'})</td>\n",
       "      <td>Jacques,\\n\\nStill trying to close the loop on ...</td>\n",
       "      <td>[jacques, still, trying, close, loop, extensio...</td>\n",
       "      <td>jacques still trying close loop extensions ass...</td>\n",
       "      <td>1</td>\n",
       "    </tr>\n",
       "    <tr>\n",
       "      <th>991</th>\n",
       "      <td>2001-03-19 00:45:00</td>\n",
       "      <td>frozenset({'phillip.allen@enron.com'})</td>\n",
       "      <td>frozenset({'llewter@austin.rr.com'})</td>\n",
       "      <td>Larrry,\\n\\nI realize you are disappointed abou...</td>\n",
       "      <td>[larrry, realize, disappointed, project, desir...</td>\n",
       "      <td>larrry realize disappointed project desire lef...</td>\n",
       "      <td>1</td>\n",
       "    </tr>\n",
       "    <tr>\n",
       "      <th>992</th>\n",
       "      <td>2000-12-06 08:04:00</td>\n",
       "      <td>frozenset({'phillip.allen@enron.com'})</td>\n",
       "      <td>frozenset({'pallen70@hotmail.com'})</td>\n",
       "      <td>---------------------- Forwarded by Phillip K ...</td>\n",
       "      <td>[forwarded, phillip, k, allen, hou, ect, pm, l...</td>\n",
       "      <td>forwarded phillip k allen hou ect pm lucy gonz...</td>\n",
       "      <td>2</td>\n",
       "    </tr>\n",
       "    <tr>\n",
       "      <th>993</th>\n",
       "      <td>2001-03-16 04:28:00</td>\n",
       "      <td>frozenset({'phillip.allen@enron.com'})</td>\n",
       "      <td>frozenset({'jacquestc@aol.com'})</td>\n",
       "      <td>Jacques,\\n\\nI think we reached an agreement wi...</td>\n",
       "      <td>[jacques, think, reached, agreement, george_la...</td>\n",
       "      <td>jacques think reached agreement george larry p...</td>\n",
       "      <td>1</td>\n",
       "    </tr>\n",
       "    <tr>\n",
       "      <th>994</th>\n",
       "      <td>2001-03-15 07:42:00</td>\n",
       "      <td>frozenset({'phillip.allen@enron.com'})</td>\n",
       "      <td>frozenset({'matt.smith@enron.com'})</td>\n",
       "      <td>---------------------- Forwarded by Phillip K ...</td>\n",
       "      <td>[forwarded, phillip, k, allen, hou, ect, pm, m...</td>\n",
       "      <td>forwarded phillip k allen hou ect pm mike grig...</td>\n",
       "      <td>0</td>\n",
       "    </tr>\n",
       "  </tbody>\n",
       "</table>\n",
       "</div>"
      ],
      "text/plain": [
       "                   Date                                    From  \\\n",
       "990 2001-03-19 01:36:00  frozenset({'phillip.allen@enron.com'})   \n",
       "991 2001-03-19 00:45:00  frozenset({'phillip.allen@enron.com'})   \n",
       "992 2000-12-06 08:04:00  frozenset({'phillip.allen@enron.com'})   \n",
       "993 2001-03-16 04:28:00  frozenset({'phillip.allen@enron.com'})   \n",
       "994 2001-03-15 07:42:00  frozenset({'phillip.allen@enron.com'})   \n",
       "\n",
       "                                       To  \\\n",
       "990      frozenset({'jacquestc@aol.com'})   \n",
       "991  frozenset({'llewter@austin.rr.com'})   \n",
       "992   frozenset({'pallen70@hotmail.com'})   \n",
       "993      frozenset({'jacquestc@aol.com'})   \n",
       "994   frozenset({'matt.smith@enron.com'})   \n",
       "\n",
       "                                               content  \\\n",
       "990  Jacques,\\n\\nStill trying to close the loop on ...   \n",
       "991  Larrry,\\n\\nI realize you are disappointed abou...   \n",
       "992  ---------------------- Forwarded by Phillip K ...   \n",
       "993  Jacques,\\n\\nI think we reached an agreement wi...   \n",
       "994  ---------------------- Forwarded by Phillip K ...   \n",
       "\n",
       "                                       content_cleaned  \\\n",
       "990  [jacques, still, trying, close, loop, extensio...   \n",
       "991  [larrry, realize, disappointed, project, desir...   \n",
       "992  [forwarded, phillip, k, allen, hou, ect, pm, l...   \n",
       "993  [jacques, think, reached, agreement, george_la...   \n",
       "994  [forwarded, phillip, k, allen, hou, ect, pm, m...   \n",
       "\n",
       "                                         clean_content  cluster  \n",
       "990  jacques still trying close loop extensions ass...        1  \n",
       "991  larrry realize disappointed project desire lef...        1  \n",
       "992  forwarded phillip k allen hou ect pm lucy gonz...        2  \n",
       "993  jacques think reached agreement george larry p...        1  \n",
       "994  forwarded phillip k allen hou ect pm mike grig...        0  "
      ]
     },
     "execution_count": 25,
     "metadata": {},
     "output_type": "execute_result"
    }
   ],
   "source": [
    "analysis_df.tail(5)"
   ]
  },
  {
   "cell_type": "code",
   "execution_count": 26,
   "id": "4d22ed79",
   "metadata": {
    "execution": {
     "iopub.execute_input": "2022-04-16T02:53:45.339189Z",
     "iopub.status.busy": "2022-04-16T02:53:45.338581Z",
     "iopub.status.idle": "2022-04-16T02:53:45.344854Z",
     "shell.execute_reply": "2022-04-16T02:53:45.344032Z"
    },
    "papermill": {
     "duration": 0.08231,
     "end_time": "2022-04-16T02:53:45.346762",
     "exception": false,
     "start_time": "2022-04-16T02:53:45.264452",
     "status": "completed"
    },
    "tags": []
   },
   "outputs": [
    {
     "data": {
      "text/plain": [
       "array([0, 1, 2], dtype=int32)"
      ]
     },
     "execution_count": 26,
     "metadata": {},
     "output_type": "execute_result"
    }
   ],
   "source": [
    "np.unique(labels)"
   ]
  },
  {
   "cell_type": "markdown",
   "id": "6faec9d1",
   "metadata": {
    "papermill": {
     "duration": 0.072386,
     "end_time": "2022-04-16T02:53:45.492194",
     "exception": false,
     "start_time": "2022-04-16T02:53:45.419808",
     "status": "completed"
    },
    "tags": []
   },
   "source": [
    "### Let us use PCA to get low level projects of the data for visualization purpose"
   ]
  },
  {
   "cell_type": "code",
   "execution_count": 27,
   "id": "f60ecd18",
   "metadata": {
    "execution": {
     "iopub.execute_input": "2022-04-16T02:53:45.643333Z",
     "iopub.status.busy": "2022-04-16T02:53:45.643004Z",
     "iopub.status.idle": "2022-04-16T02:53:45.842483Z",
     "shell.execute_reply": "2022-04-16T02:53:45.841624Z"
    },
    "papermill": {
     "duration": 0.278201,
     "end_time": "2022-04-16T02:53:45.844859",
     "exception": false,
     "start_time": "2022-04-16T02:53:45.566658",
     "status": "completed"
    },
    "tags": []
   },
   "outputs": [
    {
     "data": {
      "image/png": "[encoded data removed]",
      "text/plain": [
       "<Figure size 432x288 with 1 Axes>"
      ]
     },
     "metadata": {
      "needs_background": "light"
     },
     "output_type": "display_data"
    }
   ],
   "source": [
    "label = [\"#e05f14\", \"#e0dc14\", \"#2fe014\"]#,\"#14d2e0\",\"#8455d3\",\"#b13825\",\"#828c45\",\"#0c0c04\"]\n",
    "color = [label[i] for i in labels]\n",
    "plt.scatter(datapoint[:, 0], datapoint[:, 1], c=color)\n",
    "\n",
    "centroids = clf.cluster_centers_\n",
    "centroidpoint = pca.transform(centroids)\n",
    "plt.scatter(centroidpoint[:, 0], centroidpoint[:, 1], marker='^', s=150, c='#000000')\n",
    "plt.show()"
   ]
  },
  {
   "cell_type": "markdown",
   "id": "db1d318d",
   "metadata": {
    "papermill": {
     "duration": 0.074815,
     "end_time": "2022-04-16T02:53:45.994255",
     "exception": false,
     "start_time": "2022-04-16T02:53:45.919440",
     "status": "completed"
    },
    "tags": []
   },
   "source": [
    "### Because I now know which emails the machine assigned to each cluster, I was able to write a function that extracts the top terms per cluster."
   ]
  },
  {
   "cell_type": "code",
   "execution_count": 28,
   "id": "9effc3ea",
   "metadata": {
    "execution": {
     "iopub.execute_input": "2022-04-16T02:53:46.147524Z",
     "iopub.status.busy": "2022-04-16T02:53:46.147021Z",
     "iopub.status.idle": "2022-04-16T02:53:46.153595Z",
     "shell.execute_reply": "2022-04-16T02:53:46.152753Z"
    },
    "papermill": {
     "duration": 0.086733,
     "end_time": "2022-04-16T02:53:46.155732",
     "exception": false,
     "start_time": "2022-04-16T02:53:46.068999",
     "status": "completed"
    },
    "tags": []
   },
   "outputs": [],
   "source": [
    "def top_feats_per_cluster(X, y, features, min_tfidf=0.1, top_n=25):\n",
    "    dfs = []\n",
    "    labels = np.unique(y)\n",
    "    for label in labels:\n",
    "        ids = np.where(y==label) \n",
    "        feats_df = top_mean_feats(X,features,ids,min_tfidf=min_tfidf, top_n=top_n)\n",
    "        feats_df.label = label\n",
    "        dfs.append(feats_df)\n",
    "    return dfs"
   ]
  },
  {
   "cell_type": "code",
   "execution_count": 29,
   "id": "386762d8",
   "metadata": {
    "execution": {
     "iopub.execute_input": "2022-04-16T02:53:46.308410Z",
     "iopub.status.busy": "2022-04-16T02:53:46.307953Z",
     "iopub.status.idle": "2022-04-16T02:53:46.326892Z",
     "shell.execute_reply": "2022-04-16T02:53:46.326168Z"
    },
    "papermill": {
     "duration": 0.098524,
     "end_time": "2022-04-16T02:53:46.329251",
     "exception": false,
     "start_time": "2022-04-16T02:53:46.230727",
     "status": "completed"
    },
    "tags": []
   },
   "outputs": [],
   "source": [
    "dfs = top_feats_per_cluster(wordvector_fit_2d,labels,feature)"
   ]
  },
  {
   "cell_type": "code",
   "execution_count": 30,
   "id": "fae4e363",
   "metadata": {
    "execution": {
     "iopub.execute_input": "2022-04-16T02:53:46.489784Z",
     "iopub.status.busy": "2022-04-16T02:53:46.489503Z",
     "iopub.status.idle": "2022-04-16T02:53:47.695032Z",
     "shell.execute_reply": "2022-04-16T02:53:47.694106Z"
    },
    "papermill": {
     "duration": 1.286339,
     "end_time": "2022-04-16T02:53:47.697368",
     "exception": false,
     "start_time": "2022-04-16T02:53:46.411029",
     "status": "completed"
    },
    "tags": []
   },
   "outputs": [
    {
     "data": {
      "image/png": "[encoded data removed]",
      "text/plain": [
       "<Figure size 720x1008 with 3 Axes>"
      ]
     },
     "metadata": {
      "needs_background": "light"
     },
     "output_type": "display_data"
    }
   ],
   "source": [
    "plt.figure(figsize=(10,14))\n",
    "plt.title(\"Top words per cluster\")\n",
    "\n",
    "for i in range(3):\n",
    "    plt.subplot(1,3,i+1)\n",
    "    plt.barh(dfs[i]['features'],dfs[i]['score'])\n",
    "    plt.title('Cluster '+str(i+1))\n",
    "    plt.ylabel('words')\n",
    "    plt.xlabel('Tf-idf score')\n",
    "    \n",
    "plt.tight_layout()\n",
    "    \n",
    "plt.show()"
   ]
  },
  {
   "cell_type": "markdown",
   "id": "b18df5d1",
   "metadata": {
    "papermill": {
     "duration": 0.07583,
     "end_time": "2022-04-16T02:53:47.850008",
     "exception": false,
     "start_time": "2022-04-16T02:53:47.774178",
     "status": "completed"
    },
    "tags": []
   },
   "source": [
    "# Another way of topic modelling can be done using Latent Dirichlet Allocation"
   ]
  },
  {
   "cell_type": "markdown",
   "id": "ca6c354f",
   "metadata": {
    "papermill": {
     "duration": 0.076563,
     "end_time": "2022-04-16T02:53:48.003588",
     "exception": false,
     "start_time": "2022-04-16T02:53:47.927025",
     "status": "completed"
    },
    "tags": []
   },
   "source": [
    "## Now that we know the optimum number of clusters.Let us clean the data further by removing some unwanted words that occur a lot and dont necessarily mean anything. Gensim's tfidf methods can help us remove words with a low tfidf value."
   ]
  },
  {
   "cell_type": "code",
   "execution_count": 31,
   "id": "00e61802",
   "metadata": {
    "execution": {
     "iopub.execute_input": "2022-04-16T02:53:48.157638Z",
     "iopub.status.busy": "2022-04-16T02:53:48.156879Z",
     "iopub.status.idle": "2022-04-16T02:53:49.148321Z",
     "shell.execute_reply": "2022-04-16T02:53:49.147119Z"
    },
    "papermill": {
     "duration": 1.07098,
     "end_time": "2022-04-16T02:53:49.150427",
     "exception": false,
     "start_time": "2022-04-16T02:53:48.079447",
     "status": "completed"
    },
    "tags": []
   },
   "outputs": [
    {
     "name": "stdout",
     "output_type": "stream",
     "text": [
      "Vocab Size: 7456\n",
      "Removed Size: 3415\n"
     ]
    }
   ],
   "source": [
    "## TF-IDF Removal\n",
    "\n",
    "dictionary = corpora.Dictionary(data_bigrams_trigrams) ## Create the dictionary that indicates the vocab across all email \n",
    "## contents with trigrams & bigrams now added to the text\n",
    "\n",
    "texts = data_bigrams_trigrams\n",
    "\n",
    "\n",
    "text_term_matrix = [dictionary.doc2bow(text) for text in texts] ## Convert each email content as BOW object - list(word_id,freq) for \n",
    "##each doc\n",
    "print('Vocab Size:',len(dictionary))\n",
    "\n",
    "tfidf = TfidfModel(text_term_matrix,id2word=dictionary)\n",
    "\n",
    "low_value = 0.03\n",
    "\n",
    "words = []\n",
    "words_missing_in_tfidf = []\n",
    "\n",
    "for i in range(0, len(text_term_matrix)):\n",
    "    bow = text_term_matrix[i]\n",
    "    low_value_words = [] #reinitialize to be safe.\n",
    "    tfidf_ids = [id for id, value in tfidf[bow]]\n",
    "    bow_ids = [id for id, value in bow]\n",
    "    low_value_words = [id for id, value in tfidf[bow] if value < low_value]\n",
    "    \n",
    "    drops = low_value_words+words_missing_in_tfidf ## \n",
    "    \n",
    "    for item in drops:\n",
    "        words.append(dictionary[item])   \n",
    "    words_missing_in_tfidf = [id for id in bow_ids if id not in tfidf_ids] # The words with tf-idf score 0 will be missing\n",
    "    \n",
    "    new_bow = [b for b in bow if b[0] not in low_value_words and b[0] not in words_missing_in_tfidf]\n",
    "    text_term_matrix[i] = new_bow\n",
    "\n",
    "print('Removed Size:',len(set(words))) "
   ]
  },
  {
   "cell_type": "markdown",
   "id": "562f98e8",
   "metadata": {
    "papermill": {
     "duration": 0.077471,
     "end_time": "2022-04-16T02:53:49.304690",
     "exception": false,
     "start_time": "2022-04-16T02:53:49.227219",
     "status": "completed"
    },
    "tags": []
   },
   "source": [
    "## We are now ready to apply Latent Dirichlet Allocation for topic modelling"
   ]
  },
  {
   "cell_type": "code",
   "execution_count": 32,
   "id": "99ef6d44",
   "metadata": {
    "execution": {
     "iopub.execute_input": "2022-04-16T02:53:49.461149Z",
     "iopub.status.busy": "2022-04-16T02:53:49.460249Z",
     "iopub.status.idle": "2022-04-16T02:54:01.972184Z",
     "shell.execute_reply": "2022-04-16T02:54:01.970653Z"
    },
    "papermill": {
     "duration": 12.596186,
     "end_time": "2022-04-16T02:54:01.977553",
     "exception": false,
     "start_time": "2022-04-16T02:53:49.381367",
     "status": "completed"
    },
    "tags": []
   },
   "outputs": [
    {
     "name": "stderr",
     "output_type": "stream",
     "text": [
      "/opt/conda/lib/python3.7/site-packages/pyLDAvis/_prepare.py:248: FutureWarning: In a future version of pandas all arguments of DataFrame.drop except for the argument 'labels' will be keyword-only\n",
      "  by='saliency', ascending=False).head(R).drop('saliency', 1)\n"
     ]
    }
   ],
   "source": [
    "#Lda = gensim.models.ldamodel.LdaModel\n",
    "ldamodel = gensim.models.ldamodel.LdaModel(text_term_matrix, num_topics=3,\n",
    "                                           id2word = dictionary, passes=30,random_state=100,update_every=1,chunksize=100,alpha=\"auto\")\n",
    "pyLDAvis.enable_notebook()\n",
    "vis = pyLDAvis.gensim.prepare(ldamodel,text_term_matrix,dictionary,mds=\"mmds\",R=30)"
   ]
  },
  {
   "cell_type": "markdown",
   "id": "4059b555",
   "metadata": {
    "papermill": {
     "duration": 0.078747,
     "end_time": "2022-04-16T02:54:02.164004",
     "exception": false,
     "start_time": "2022-04-16T02:54:02.085257",
     "status": "completed"
    },
    "tags": []
   },
   "source": [
    "### Visualize the content data"
   ]
  },
  {
   "cell_type": "code",
   "execution_count": 33,
   "id": "db74bbc6",
   "metadata": {
    "execution": {
     "iopub.execute_input": "2022-04-16T02:54:02.323015Z",
     "iopub.status.busy": "2022-04-16T02:54:02.322442Z",
     "iopub.status.idle": "2022-04-16T02:54:02.342702Z",
     "shell.execute_reply": "2022-04-16T02:54:02.341842Z"
    },
    "papermill": {
     "duration": 0.102811,
     "end_time": "2022-04-16T02:54:02.344779",
     "exception": false,
     "start_time": "2022-04-16T02:54:02.241968",
     "status": "completed"
    },
    "tags": []
   },
   "outputs": [
    {
     "data": {
      "text/html": [
       "\n",
       "<link rel=\"stylesheet\" type=\"text/css\" href=\"https://cdn.jsdelivr.net/gh/bmabey/pyLDAvis@3.2.2/pyLDAvis/js/ldavis.v1.0.0.css\">\n",
       "\n",
       "\n",
       "<div id=\"ldavis_el191397509465899047799626684\"></div>\n",
       "<script type=\"text/javascript\">\n",
       "\n",
       "var ldavis_el191397509465899047799626684_data = {\"mdsDat\": {\"x\": [-0.0630298855350784, 0.27238842381947037, -0.209358538284392], \"y\": [0.21302323570560794, -0.10639848061249435, -0.1066247550931136], \"topics\": [1, 2, 3], \"cluster\": [1, 1, 1], \"Freq\": [43.53180718722131, 33.57403448908864, 22.894158323690046]}, \"tinfo\": {\"Term\": [\"ect\", \"enron\", \"hou\", \"enronxgate\", \"na\", \"ee\", \"corp\", \"k\", \"allen\", \"pm\", \"gas\", \"forwarded\", \"power\", \"would\", \"loan\", \"phillip\", \"hr_corp_enron\", \"cost\", \"email\", \"utility\", \"get\", \"work\", \"position\", \"plant\", \"price\", \"land\", \"state\", \"said\", \"market\", \"daily\", \"loan\", \"email\", \"land\", \"work\", \"construction\", \"like\", \"use\", \"thank\", \"send\", \"let_know\", \"fee\", \"site\", \"lucy\", \"yahoo\", \"try\", \"property\", \"cash\", \"pallen\", \"still\", \"receive\", \"improvement\", \"rr\", \"office\", \"back\", \"profit\", \"partnership\", \"know\", \"rent\", \"lot\", \"shockwave\", \"free\", \"look\", \"get\", \"analyst\", \"cost\", \"would\", \"need\", \"project\", \"com\", \"information\", \"time\", \"plan\", \"today\", \"call\", \"please\", \"new\", \"unit\", \"question\", \"phillip\", \"allen\", \"want\", \"k\", \"day\", \"enron\", \"hou\", \"enronxgate\", \"na\", \"ee\", \"corp\", \"forwarded\", \"ect\", \"hr_corp_enron\", \"ect_hunter_shively\", \"scott_neal\", \"christi_l_nicolay\", \"jeff_dasovich\", \"joe_hartsoe_corp\", \"richard_shapiro_na\", \"rus_severson\", \"north_america_corp\", \"alan_comnes_pdx\", \"data_center\", \"michael\", \"susan_j_mara\", \"communication\", \"allan_severude\", \"rebecca_w_cantrell\", \"stephanie_miller_corp\", \"mgusa\", \"lisa\", \"outlook\", \"ect_scott_mill\", \"sce\", \"pm\", \"k\", \"allen\", \"r\", \"development\", \"john\", \"phillip\", \"meeting\", \"response\", \"request\", \"e_mail\", \"pdx\", \"com\", \"comment\", \"l\", \"gas\", \"please\", \"attached\", \"thanks\", \"iso\", \"mw\", \"load\", \"image_image_image_image\", \"trade\", \"grid\", \"p_l\", \"director\", \"commission\", \"san_juan\", \"transport\", \"republican\", \"rolling_blackout\", \"customer\", \"wscc\", \"west_desk\", \"dec\", \"downgraded\", \"demand\", \"aes\", \"bridge_loan\", \"tds\", \"electricity\", \"bond\", \"mwa\", \"east_basis\", \"position_manager\", \"megawatt\", \"sw\", \"pira\", \"position\", \"state\", \"plant\", \"said\", \"power\", \"utility\", \"source\", \"gas\", \"socal\", \"daily\", \"physical\", \"energy\", \"sr_specialist\", \"price\", \"line\", \"buy\", \"group\", \"wednesday\", \"market\", \"report\", \"california\", \"may\", \"u\", \"com\", \"could\", \"deal\", \"would\", \"desk\", \"issue\", \"meeting\", \"list\"], \"Freq\": [4061.0, 3021.0, 2266.0, 492.0, 435.0, 428.0, 333.0, 519.0, 595.0, 341.0, 263.0, 199.0, 164.0, 347.0, 180.0, 399.0, 114.0, 224.0, 134.0, 90.0, 174.0, 109.0, 63.0, 66.0, 134.0, 102.0, 61.0, 65.0, 135.0, 77.0, 180.19130263669592, 133.47464022008003, 102.16406901312811, 109.17743966170708, 95.99512519782655, 91.06625907590733, 86.13923212126343, 83.9862697015776, 72.55890397820897, 82.24080416732909, 69.21691352902612, 63.773169973979826, 59.92759253522123, 65.08792552193746, 58.23242311715496, 53.712426870132084, 66.11794221408842, 72.16470273953286, 52.24111220786216, 49.63937700800258, 47.14076928150853, 47.263405977187, 54.008960663291305, 76.70448280676048, 46.94170177494548, 43.792795152683375, 58.430165529240135, 43.80346934747751, 43.72450329559186, 42.26815102542643, 52.84531058779481, 57.768703909870446, 163.09230903807241, 46.392831677212264, 204.25625723857883, 291.64027991936763, 184.2017473724932, 130.73314427228922, 563.4312448437984, 85.75319218737158, 126.1221220171326, 105.0168920550536, 84.89532921538832, 105.46725814159954, 155.21579419759107, 110.2732512859334, 97.18004064494401, 78.38130525405586, 159.3768462980458, 179.68086985781756, 86.58070251331446, 110.61335673992443, 76.13409189750693, 3020.701182831811, 2265.572854015726, 491.971651626667, 434.70963282182373, 428.24218936702835, 333.22083839151657, 199.3252431880386, 4041.8704761011772, 114.0309049459493, 40.27386597850742, 35.55520538811202, 25.477768222063588, 25.39266043143018, 22.253453663653726, 22.253325607950227, 21.371846785083477, 20.28949042779087, 21.08594026353406, 19.944853127919227, 22.903782091265438, 19.859894325171624, 77.37362508481546, 17.157315641963308, 18.55319791970143, 20.580216276489296, 16.253489867531083, 18.812909662056185, 16.021691805929503, 15.75247315889476, 16.40579611988061, 307.32699010007707, 408.74698906628896, 415.45513784190814, 31.67347254881402, 89.4802920311468, 74.40859869989494, 240.0076930520478, 92.48411436900827, 41.35354547907496, 51.7968673413372, 74.70988421891269, 45.42283067180584, 216.8811088123516, 37.39413946777555, 32.353812800628546, 79.82271504033714, 69.0036826692272, 40.97969670314737, 42.73974846945531, 48.63026676011561, 40.68229424503047, 39.99242257526277, 37.04417752290951, 33.989286323816536, 29.873172933918852, 30.367397925089364, 31.94753351875079, 26.480897511107372, 23.997394764305344, 22.98250994474733, 22.84747094908977, 22.61734412104675, 24.020277976524625, 23.866459868645137, 32.153057577128834, 24.015087398336483, 21.303724818170824, 21.70498119716727, 20.473111401685415, 20.259370747036076, 19.9297043807594, 19.803533532436543, 19.430387887464512, 19.552207785258258, 19.053848467494667, 19.741350708008575, 19.631638241058077, 18.736386928869692, 18.03170254794134, 61.15907649884117, 57.56768001817944, 62.30408009597482, 58.56455986221715, 135.33680151268763, 74.68000371352242, 23.50695817313239, 182.86321986500477, 50.15942687934184, 61.23919712857672, 32.80007800969014, 44.085335373686064, 30.38904352613923, 81.80130906211961, 46.341015230741455, 42.32167732482388, 37.063737488854336, 37.442668168397105, 65.47913544711793, 44.153261251301814, 38.37639793694365, 51.539680712493926, 40.496639135575776, 84.91650231968431, 39.199602478965744, 41.081443158602745, 55.995625001108536, 37.4565925534945, 38.69027090695391, 40.24807912190634, 38.66279493143973], \"Total\": [4061.0, 3021.0, 2266.0, 492.0, 435.0, 428.0, 333.0, 519.0, 595.0, 341.0, 263.0, 199.0, 164.0, 347.0, 180.0, 399.0, 114.0, 224.0, 134.0, 90.0, 174.0, 109.0, 63.0, 66.0, 134.0, 102.0, 61.0, 65.0, 135.0, 77.0, 180.75857979773215, 134.084477676628, 102.73202457158737, 109.83567598960374, 96.58930837968074, 91.69254911916687, 86.75143591676134, 84.62073518559657, 73.13662204955534, 82.92181881177004, 69.79937966797223, 64.36471661192762, 60.49567459331645, 65.73007870116723, 58.83220522737631, 54.27984567291638, 66.81803918926985, 72.9457522683259, 52.8156709536028, 50.232928129837454, 47.709058361457195, 47.83454202412929, 54.66693965543164, 77.64125004448799, 47.51534620666346, 44.35970552706338, 59.1902999789714, 44.375319076635336, 44.30754862798101, 42.83561519839797, 53.61017782159846, 59.023752838939394, 174.18203051021106, 47.09130137657386, 224.68556687814913, 347.9542159416439, 225.3410853478664, 155.05253338478968, 865.2288559758343, 97.35199178189494, 157.16202854644743, 126.72342559496221, 97.01603701626443, 135.64650087926944, 241.7949727639901, 148.07317758181438, 124.12894991183356, 92.55939071469922, 399.6640197805566, 595.5037614657783, 123.79701524026662, 519.6664229646015, 100.07647981927876, 3021.3435639409327, 2266.206339443649, 492.5817719797, 435.29111803942436, 428.84952979628696, 333.8488159787077, 199.98477273379137, 4061.7797015260417, 114.60165591675562, 40.88756899070684, 36.129334207804696, 26.096917280178996, 26.024525451291616, 22.8391881692107, 22.839180424163185, 21.942598903373707, 20.86468007608455, 21.685182085079372, 20.534584277718565, 23.590970345452394, 20.475591814294475, 79.8266252332632, 17.72806805959717, 19.170809319984475, 21.28863772436655, 16.824240813392088, 19.473813477112895, 16.592954133729517, 16.323225501692715, 17.01208624293294, 341.52823753555305, 519.6664229646015, 595.5037614657783, 35.26835383084404, 117.34963567276645, 95.96466699248258, 399.6640197805566, 153.879336350979, 53.55517355222416, 77.78014632014133, 130.75687499802027, 65.04735497823016, 865.2288559758343, 53.969597715710066, 44.69414511151228, 263.0311321695689, 241.7949727639901, 85.8643862088982, 106.8867540813686, 49.24410394091564, 41.31504461070596, 40.6285766334758, 37.65593970493855, 34.61038090820585, 30.492976338527644, 31.000841701449858, 32.6241479211843, 27.14908707460682, 24.6072055629078, 23.597265959293026, 23.461512527945928, 23.231006977384073, 24.67286855552058, 24.515905982015244, 33.042730054406356, 24.68024082774351, 21.91321615689866, 22.33430164525442, 21.08654765374749, 20.872768328430478, 20.540682176671993, 20.423705296900398, 20.0435927268725, 20.16955740567548, 19.664144267573896, 20.389848126172048, 20.286468542819485, 19.364782923298094, 18.645381275256096, 63.7893506009966, 61.096329532230186, 66.31093764914856, 65.89411858140168, 164.16652531226367, 90.76661092676568, 24.87466418880876, 263.0311321695689, 59.61184824872952, 77.78975920339822, 37.06629072373895, 53.79708046205533, 34.193765045734665, 134.36227041596274, 67.7908164706314, 60.10558589839605, 49.631582109249294, 51.403235972542085, 135.91610207631095, 76.51242375360431, 63.10155373126262, 121.92724458556378, 79.67246056710778, 865.2288559758343, 72.8706913175723, 90.16937122186809, 347.9542159416439, 64.55040967453924, 78.08993485881285, 153.879336350979, 100.58083524289367], \"Category\": [\"Default\", \"Default\", \"Default\", \"Default\", \"Default\", \"Default\", \"Default\", \"Default\", \"Default\", \"Default\", \"Default\", \"Default\", \"Default\", \"Default\", \"Default\", \"Default\", \"Default\", \"Default\", \"Default\", \"Default\", \"Default\", \"Default\", \"Default\", \"Default\", \"Default\", \"Default\", \"Default\", \"Default\", \"Default\", \"Default\", \"Topic1\", \"Topic1\", \"Topic1\", \"Topic1\", \"Topic1\", \"Topic1\", \"Topic1\", \"Topic1\", \"Topic1\", \"Topic1\", \"Topic1\", \"Topic1\", \"Topic1\", \"Topic1\", \"Topic1\", \"Topic1\", \"Topic1\", \"Topic1\", \"Topic1\", \"Topic1\", \"Topic1\", \"Topic1\", \"Topic1\", \"Topic1\", \"Topic1\", \"Topic1\", \"Topic1\", \"Topic1\", \"Topic1\", \"Topic1\", \"Topic1\", \"Topic1\", \"Topic1\", \"Topic1\", \"Topic1\", \"Topic1\", \"Topic1\", \"Topic1\", \"Topic1\", \"Topic1\", \"Topic1\", \"Topic1\", \"Topic1\", \"Topic1\", \"Topic1\", \"Topic1\", \"Topic1\", \"Topic1\", \"Topic1\", \"Topic1\", \"Topic1\", \"Topic1\", \"Topic1\", \"Topic2\", \"Topic2\", \"Topic2\", \"Topic2\", \"Topic2\", \"Topic2\", \"Topic2\", \"Topic2\", \"Topic2\", \"Topic2\", \"Topic2\", \"Topic2\", \"Topic2\", \"Topic2\", \"Topic2\", \"Topic2\", \"Topic2\", \"Topic2\", \"Topic2\", \"Topic2\", \"Topic2\", \"Topic2\", \"Topic2\", \"Topic2\", \"Topic2\", \"Topic2\", \"Topic2\", \"Topic2\", \"Topic2\", \"Topic2\", \"Topic2\", \"Topic2\", \"Topic2\", \"Topic2\", \"Topic2\", \"Topic2\", \"Topic2\", \"Topic2\", \"Topic2\", \"Topic2\", \"Topic2\", \"Topic2\", \"Topic2\", \"Topic2\", \"Topic2\", \"Topic2\", \"Topic2\", \"Topic2\", \"Topic2\", \"Topic3\", \"Topic3\", \"Topic3\", \"Topic3\", \"Topic3\", \"Topic3\", \"Topic3\", \"Topic3\", \"Topic3\", \"Topic3\", \"Topic3\", \"Topic3\", \"Topic3\", \"Topic3\", \"Topic3\", \"Topic3\", \"Topic3\", \"Topic3\", \"Topic3\", \"Topic3\", \"Topic3\", \"Topic3\", \"Topic3\", \"Topic3\", \"Topic3\", \"Topic3\", \"Topic3\", \"Topic3\", \"Topic3\", \"Topic3\", \"Topic3\", \"Topic3\", \"Topic3\", \"Topic3\", \"Topic3\", \"Topic3\", \"Topic3\", \"Topic3\", \"Topic3\", \"Topic3\", \"Topic3\", \"Topic3\", \"Topic3\", \"Topic3\", \"Topic3\", \"Topic3\", \"Topic3\", \"Topic3\", \"Topic3\", \"Topic3\", \"Topic3\", \"Topic3\", \"Topic3\", \"Topic3\", \"Topic3\", \"Topic3\", \"Topic3\", \"Topic3\", \"Topic3\", \"Topic3\", \"Topic3\"], \"logprob\": [30.0, 29.0, 28.0, 27.0, 26.0, 25.0, 24.0, 23.0, 22.0, 21.0, 20.0, 19.0, 18.0, 17.0, 16.0, 15.0, 14.0, 13.0, 12.0, 11.0, 10.0, 9.0, 8.0, 7.0, 6.0, 5.0, 4.0, 3.0, 2.0, 1.0, -5.0253, -5.3254, -5.5927, -5.5263, -5.655, -5.7077, -5.7633, -5.7887, -5.9349, -5.8097, -5.9821, -6.064, -6.1262, -6.0436, -6.1549, -6.2357, -6.0279, -5.9404, -6.2634, -6.3145, -6.3662, -6.3636, -6.2302, -5.8793, -6.3704, -6.4398, -6.1515, -6.4396, -6.4414, -6.4753, -6.2519, -6.1629, -5.125, -6.3822, -4.8999, -4.5438, -5.0033, -5.3461, -3.8853, -5.7678, -5.3821, -5.5652, -5.7779, -5.5609, -5.1745, -5.5163, -5.6427, -5.8577, -5.148, -5.0281, -5.7582, -5.5133, -5.8868, -1.9463, -2.234, -3.7611, -3.8849, -3.8999, -4.1508, -4.6646, -1.6551, -5.2231, -6.2639, -6.3885, -6.7218, -6.7251, -6.8571, -6.8571, -6.8975, -6.9495, -6.911, -6.9666, -6.8283, -6.9709, -5.6109, -7.1171, -7.0389, -6.9352, -7.1713, -7.025, -7.1856, -7.2026, -7.1619, -4.2317, -3.9465, -3.9302, -6.5041, -5.4655, -5.65, -4.4789, -5.4325, -6.2374, -6.0122, -5.646, -6.1436, -4.5802, -6.3381, -6.4828, -5.5798, -5.7254, -6.2465, -6.2044, -5.6925, -5.8709, -5.888, -5.9646, -6.0507, -6.1797, -6.1633, -6.1126, -6.3003, -6.3988, -6.442, -6.4479, -6.458, -6.3978, -6.4042, -6.1062, -6.398, -6.5178, -6.4992, -6.5576, -6.5681, -6.5845, -6.5908, -6.6099, -6.6036, -6.6294, -6.594, -6.5996, -6.6462, -6.6846, -5.4632, -5.5237, -5.4447, -5.5066, -4.6689, -5.2635, -6.4194, -4.368, -5.6615, -5.4619, -6.0863, -5.7906, -6.1626, -5.1724, -5.7407, -5.8314, -5.9641, -5.9539, -5.395, -5.789, -5.9293, -5.6343, -5.8755, -5.135, -5.908, -5.8611, -5.5514, -5.9535, -5.9211, -5.8816, -5.9218], \"loglift\": [30.0, 29.0, 28.0, 27.0, 26.0, 25.0, 24.0, 23.0, 22.0, 21.0, 20.0, 19.0, 18.0, 17.0, 16.0, 15.0, 14.0, 13.0, 12.0, 11.0, 10.0, 9.0, 8.0, 7.0, 6.0, 5.0, 4.0, 3.0, 2.0, 1.0, 0.8285, 0.8271, 0.8261, 0.8257, 0.8255, 0.8248, 0.8246, 0.8242, 0.8237, 0.8234, 0.8233, 0.8224, 0.8222, 0.8219, 0.8214, 0.8212, 0.8211, 0.8209, 0.8207, 0.8198, 0.8197, 0.8197, 0.8196, 0.8195, 0.8195, 0.8188, 0.8188, 0.8187, 0.8184, 0.8183, 0.8173, 0.8102, 0.7659, 0.8167, 0.7364, 0.6551, 0.6301, 0.6611, 0.4027, 0.7048, 0.6117, 0.6438, 0.6982, 0.58, 0.3884, 0.5369, 0.5869, 0.6654, -0.0877, -0.3665, 0.4741, -0.7155, 0.5582, 1.0912, 1.0911, 1.0902, 1.0901, 1.09, 1.0895, 1.0881, 1.0865, 1.0864, 1.0763, 1.0754, 1.0674, 1.0668, 1.0654, 1.0654, 1.0651, 1.0635, 1.0634, 1.0623, 1.0619, 1.0609, 1.0602, 1.0587, 1.0587, 1.0576, 1.0569, 1.0569, 1.0564, 1.0558, 1.0551, 0.9859, 0.8513, 0.7314, 0.9839, 0.8203, 0.837, 0.5815, 0.5823, 0.8329, 0.6849, 0.5317, 0.7323, -0.2922, 0.7245, 0.7683, -0.101, -0.1625, 0.3517, 0.1748, 1.4617, 1.4589, 1.4585, 1.4579, 1.4562, 1.4538, 1.4536, 1.4533, 1.4494, 1.4492, 1.4479, 1.4478, 1.4475, 1.4475, 1.4474, 1.447, 1.447, 1.4461, 1.4457, 1.4448, 1.4445, 1.4441, 1.4435, 1.4432, 1.4432, 1.4428, 1.442, 1.4415, 1.4413, 1.4408, 1.4322, 1.4148, 1.412, 1.3564, 1.2812, 1.2792, 1.4177, 1.1108, 1.3016, 1.2351, 1.352, 1.2752, 1.3563, 0.978, 1.0939, 1.1235, 1.1823, 1.1574, 0.744, 0.9245, 0.977, 0.6132, 0.7976, -0.847, 0.8543, 0.6882, -0.3525, 0.93, 0.772, 0.1332, 0.5182]}, \"token.table\": {\"Topic\": [3, 2, 2, 1, 2, 1, 1, 2, 3, 1, 3, 3, 3, 1, 2, 3, 2, 3, 1, 2, 1, 2, 1, 2, 3, 1, 2, 3, 3, 2, 3, 1, 2, 1, 3, 1, 3, 3, 1, 3, 2, 1, 3, 1, 3, 3, 3, 1, 2, 3, 1, 2, 3, 3, 1, 2, 3, 3, 2, 3, 2, 2, 2, 3, 1, 1, 3, 2, 2, 1, 2, 1, 2, 3, 1, 2, 3, 3, 1, 3, 2, 2, 3, 1, 1, 3, 3, 1, 3, 2, 2, 1, 2, 3, 1, 2, 1, 1, 2, 1, 1, 1, 1, 2, 3, 2, 1, 2, 3, 3, 1, 1, 3, 1, 1, 1, 3, 1, 2, 3, 1, 2, 3, 3, 2, 2, 3, 3, 2, 1, 2, 3, 1, 2, 3, 2, 1, 2, 3, 1, 2, 1, 2, 3, 1, 2, 2, 3, 3, 1, 2, 3, 2, 3, 1, 2, 3, 1, 2, 2, 3, 3, 1, 2, 3, 1, 2, 3, 1, 1, 3, 1, 1, 2, 1, 2, 2, 1, 1, 1, 2, 3, 3, 1, 2, 3, 1, 2, 3, 2, 3, 1, 2, 1, 3, 3, 2, 2, 1, 1, 1, 2, 3, 1, 3, 1, 3, 1, 3, 2, 1, 2, 3, 3, 1, 1, 2, 1, 2, 3, 1, 2, 3, 3, 1, 1, 3, 1, 3, 1, 1, 3, 1, 2, 3, 2, 3, 1, 3, 1, 1, 3, 3, 1], \"Freq\": [0.9484719987553586, 0.9684032127380283, 0.9589313366154961, 0.30226509326649154, 0.6968889650310777, 0.9768258394932203, 0.3144493449742027, 0.4774971534793448, 0.20963289664946846, 0.9917408588331518, 0.012879751413417555, 0.9479338489315166, 0.9581862686013866, 0.2162860540445528, 0.08318694386328955, 0.6987703284516322, 0.3803392877172468, 0.6022038722189741, 0.7740708335223038, 0.22116309529208678, 0.9877572104899298, 0.9579675534699219, 0.6506948954736717, 0.25080069683443473, 0.09823990428998594, 0.18528950415150286, 0.6855711653605606, 0.129702652906052, 0.9576749276522971, 0.9645904455436585, 0.02505429728684827, 0.9938988239012516, 0.9974574839326019, 0.9079354888453193, 0.08901328322012933, 0.4528569635244048, 0.5351945932561148, 0.9727284018878289, 0.2056826009470543, 0.7841649161106445, 0.9739666374303654, 0.7594191975701302, 0.2398165887063569, 0.5434217776614195, 0.45469985477792246, 0.9724378367094847, 0.9850319185903244, 0.17040945294478518, 0.2478682951924148, 0.5731954326324592, 0.23860321201234042, 0.7584173524677963, 0.9808685295722616, 0.9583257815575755, 0.4206279784587444, 0.5735836069891969, 0.007647781426522625, 0.9662256206760511, 0.9951302869728237, 0.004923949960281167, 0.9782924489614785, 0.9801984294305561, 0.9980190492532649, 0.9792542395838084, 0.9919119819428804, 0.16729532388561433, 0.8178882501074478, 0.9998862876949736, 0.9988189331948646, 0.9885474674449144, 0.9950757614175842, 0.9886182466391179, 0.30414650668965765, 0.6957351340525918, 0.9358026170813554, 0.05167008315173128, 0.011482240700384729, 0.9838331183858634, 0.24178153284707987, 0.7454930596118297, 0.9999089494014478, 0.9947500242300805, 0.9825807107702448, 0.9851378671931613, 0.8833923007212049, 0.11299203846434017, 0.995042981364662, 0.4994241584464409, 0.4994241584464409, 0.9606323099643391, 0.9632566550530022, 0.1563075293240483, 0.7711171446653049, 0.06252301172961931, 0.2135985607204818, 0.7870433453574509, 0.9798902864254062, 0.26849154335673936, 0.715977448951305, 0.9928744266976139, 0.988883277948081, 0.9924470513054795, 0.25077143018870124, 0.07375630299667683, 0.6785579875694269, 0.9756691991699645, 0.5070548467492797, 0.1093647708674917, 0.3877478239847433, 0.9845287065026569, 0.9958033538514133, 0.9826552398026444, 0.016942331720735247, 0.9930587758180153, 0.9918064457227953, 0.5150235986071618, 0.47823619870665024, 0.5741128673737618, 0.00820161239105374, 0.42648384433479447, 0.13647056517128262, 0.5978710474170477, 0.25994393365958596, 0.9858788363181683, 0.9510087365882214, 0.9749492989563986, 0.9923745789536356, 0.9915933997823984, 0.9993312107062152, 0.8165399563774763, 0.05769032300493039, 0.12425608031831162, 0.7428759333487125, 0.12156151636615295, 0.12831493394205032, 0.9585577122231718, 0.987799945275236, 0.964264703623559, 0.9677156603975998, 0.9870348548213332, 0.013708817428074073, 0.9918911651285888, 0.6918036869456177, 0.2920948900437052, 0.39783416102180547, 0.6005043939951781, 0.10791476357352954, 0.8902967994816187, 0.9653865337625158, 0.8285760861263697, 0.039456004101255694, 0.13415041394426938, 0.06032187361252553, 0.9349890409941457, 0.6410389687931666, 0.2853657344950225, 0.07444323508565805, 0.09955252966882601, 0.8989007825979289, 0.031353195810222806, 0.9562724722117955, 0.9808802829839793, 0.060913758033063356, 0.11573614026282038, 0.8223357334463554, 0.32003031704420676, 0.07442565512655971, 0.6102903720377897, 0.9891541102442565, 0.8448749410298304, 0.15478624873828956, 0.9948443907780672, 0.8427021763834163, 0.15125423678676703, 0.08506209318384295, 0.9073289939609913, 0.9910901351563486, 0.9953630389764379, 0.991542166130971, 0.3659536402894437, 0.05227909146992053, 0.5750700061691258, 0.9803289524749863, 0.2442782753557242, 0.6685510693946135, 0.08999725934158259, 0.11203399414155793, 0.7655656266339792, 0.11203399414155793, 0.9632569817052036, 0.9900560928069556, 0.9825535692657343, 0.9570425131715469, 0.10623102866688497, 0.895375813049459, 0.9753240748383439, 0.9405078114182864, 0.9964202438090665, 0.9981319611744883, 0.980492513191938, 0.9943335940694559, 0.15097669782771436, 0.8387594323761909, 0.040201547743905025, 0.9648371458537206, 0.08773529314445062, 0.8773529314445062, 0.04910278609155085, 0.9493205311033165, 0.9864417005867793, 0.9845562701585417, 0.9767727439280923, 0.9811625606781671, 0.9736774965884023, 0.9926645025686065, 0.5987645574051147, 0.40229493700656144, 0.8017203720602407, 0.025451440382864784, 0.1717972225843373, 0.8761438068816397, 0.12369089038329031, 0.9823642244844196, 0.9746891881320763, 0.9858545974239792, 0.4895041488915792, 0.5020555373246967, 0.7814454248497008, 0.21751573681383424, 0.9913380578797295, 0.17627627424482636, 0.8262950355226236, 0.7027633083976171, 0.18578800107063442, 0.11308834847777748, 0.2723563942059667, 0.7197990418300548, 0.030263843161671404, 0.9684429811734849, 0.9923915796750516, 0.8391908665620879, 0.16094071413519495, 0.9789562750651063, 0.9888927760989541], \"Term\": [\"aes\", \"alan_comnes_pdx\", \"allan_severude\", \"allen\", \"allen\", \"analyst\", \"attached\", \"attached\", \"attached\", \"back\", \"back\", \"bond\", \"bridge_loan\", \"buy\", \"buy\", \"buy\", \"california\", \"california\", \"call\", \"call\", \"cash\", \"christi_l_nicolay\", \"com\", \"com\", \"com\", \"comment\", \"comment\", \"comment\", \"commission\", \"communication\", \"communication\", \"construction\", \"corp\", \"cost\", \"cost\", \"could\", \"could\", \"customer\", \"daily\", \"daily\", \"data_center\", \"day\", \"day\", \"deal\", \"deal\", \"dec\", \"demand\", \"desk\", \"desk\", \"desk\", \"development\", \"development\", \"director\", \"downgraded\", \"e_mail\", \"e_mail\", \"e_mail\", \"east_basis\", \"ect\", \"ect\", \"ect_hunter_shively\", \"ect_scott_mill\", \"ee\", \"electricity\", \"email\", \"energy\", \"energy\", \"enron\", \"enronxgate\", \"fee\", \"forwarded\", \"free\", \"gas\", \"gas\", \"get\", \"get\", \"get\", \"grid\", \"group\", \"group\", \"hou\", \"hr_corp_enron\", \"image_image_image_image\", \"improvement\", \"information\", \"information\", \"iso\", \"issue\", \"issue\", \"jeff_dasovich\", \"joe_hartsoe_corp\", \"john\", \"john\", \"john\", \"k\", \"k\", \"know\", \"l\", \"l\", \"land\", \"let_know\", \"like\", \"line\", \"line\", \"line\", \"lisa\", \"list\", \"list\", \"list\", \"load\", \"loan\", \"look\", \"look\", \"lot\", \"lucy\", \"market\", \"market\", \"may\", \"may\", \"may\", \"meeting\", \"meeting\", \"meeting\", \"megawatt\", \"mgusa\", \"michael\", \"mw\", \"mwa\", \"na\", \"need\", \"need\", \"need\", \"new\", \"new\", \"new\", \"north_america_corp\", \"office\", \"outlook\", \"p_l\", \"pallen\", \"pallen\", \"partnership\", \"pdx\", \"pdx\", \"phillip\", \"phillip\", \"physical\", \"physical\", \"pira\", \"plan\", \"plan\", \"plan\", \"plant\", \"plant\", \"please\", \"please\", \"please\", \"pm\", \"pm\", \"position\", \"position\", \"position_manager\", \"power\", \"power\", \"power\", \"price\", \"price\", \"price\", \"profit\", \"project\", \"project\", \"property\", \"question\", \"question\", \"r\", \"r\", \"rebecca_w_cantrell\", \"receive\", \"rent\", \"report\", \"report\", \"report\", \"republican\", \"request\", \"request\", \"request\", \"response\", \"response\", \"response\", \"richard_shapiro_na\", \"rolling_blackout\", \"rr\", \"rus_severson\", \"said\", \"said\", \"san_juan\", \"sce\", \"scott_neal\", \"send\", \"shockwave\", \"site\", \"socal\", \"socal\", \"source\", \"source\", \"sr_specialist\", \"sr_specialist\", \"state\", \"state\", \"stephanie_miller_corp\", \"still\", \"susan_j_mara\", \"sw\", \"tds\", \"thank\", \"thanks\", \"thanks\", \"time\", \"time\", \"time\", \"today\", \"today\", \"trade\", \"transport\", \"try\", \"u\", \"u\", \"unit\", \"unit\", \"use\", \"utility\", \"utility\", \"want\", \"want\", \"want\", \"wednesday\", \"wednesday\", \"west_desk\", \"west_desk\", \"work\", \"would\", \"would\", \"wscc\", \"yahoo\"]}, \"R\": 30, \"lambda.step\": 0.01, \"plot.opts\": {\"xlab\": \"PC1\", \"ylab\": \"PC2\"}, \"topic.order\": [1, 2, 3]};\n",
       "\n",
       "function LDAvis_load_lib(url, callback){\n",
       "  var s = document.createElement('script');\n",
       "  s.src = url;\n",
       "  s.async = true;\n",
       "  s.onreadystatechange = s.onload = callback;\n",
       "  s.onerror = function(){console.warn(\"failed to load library \" + url);};\n",
       "  document.getElementsByTagName(\"head\")[0].appendChild(s);\n",
       "}\n",
       "\n",
       "if(typeof(LDAvis) !== \"undefined\"){\n",
       "   // already loaded: just create the visualization\n",
       "   !function(LDAvis){\n",
       "       new LDAvis(\"#\" + \"ldavis_el191397509465899047799626684\", ldavis_el191397509465899047799626684_data);\n",
       "   }(LDAvis);\n",
       "}else if(typeof define === \"function\" && define.amd){\n",
       "   // require.js is available: use it to load d3/LDAvis\n",
       "   require.config({paths: {d3: \"https://d3js.org/d3.v5\"}});\n",
       "   require([\"d3\"], function(d3){\n",
       "      window.d3 = d3;\n",
       "      LDAvis_load_lib(\"https://cdn.jsdelivr.net/gh/bmabey/pyLDAvis@3.2.2/pyLDAvis/js/ldavis.v3.0.0.js\", function(){\n",
       "        new LDAvis(\"#\" + \"ldavis_el191397509465899047799626684\", ldavis_el191397509465899047799626684_data);\n",
       "      });\n",
       "    });\n",
       "}else{\n",
       "    // require.js not available: dynamically load d3 & LDAvis\n",
       "    LDAvis_load_lib(\"https://d3js.org/d3.v5.js\", function(){\n",
       "         LDAvis_load_lib(\"https://cdn.jsdelivr.net/gh/bmabey/pyLDAvis@3.2.2/pyLDAvis/js/ldavis.v3.0.0.js\", function(){\n",
       "                 new LDAvis(\"#\" + \"ldavis_el191397509465899047799626684\", ldavis_el191397509465899047799626684_data);\n",
       "            })\n",
       "         });\n",
       "}\n",
       "</script>"
      ],
      "text/plain": [
       "PreparedData(topic_coordinates=              x         y  topics  cluster       Freq\n",
       "topic                                                \n",
       "0     -0.063030  0.213023       1        1  43.531807\n",
       "1      0.272388 -0.106398       2        1  33.574034\n",
       "2     -0.209359 -0.106625       3        1  22.894158, topic_info=            Term         Freq        Total Category  logprob  loglift\n",
       "147          ect  4061.000000  4061.000000  Default  30.0000  30.0000\n",
       "87         enron  3021.000000  3021.000000  Default  29.0000  29.0000\n",
       "165          hou  2266.000000  2266.000000  Default  28.0000  28.0000\n",
       "1548  enronxgate   492.000000   492.000000  Default  27.0000  27.0000\n",
       "512           na   435.000000   435.000000  Default  26.0000  26.0000\n",
       "...          ...          ...          ...      ...      ...      ...\n",
       "58         would    55.995625   347.954216   Topic3  -5.5514  -0.3525\n",
       "321         desk    37.456593    64.550410   Topic3  -5.9535   0.9300\n",
       "381        issue    38.690271    78.089935   Topic3  -5.9211   0.7720\n",
       "24       meeting    40.248079   153.879336   Topic3  -5.8816   0.1332\n",
       "94          list    38.662795   100.580835   Topic3  -5.9218   0.5182\n",
       "\n",
       "[193 rows x 6 columns], token_table=      Topic      Freq             Term\n",
       "term                                  \n",
       "5442      3  0.948472              aes\n",
       "2137      2  0.968403  alan_comnes_pdx\n",
       "269       2  0.958931   allan_severude\n",
       "84        1  0.302265            allen\n",
       "84        2  0.696889            allen\n",
       "...     ...       ...              ...\n",
       "233       1  0.992392             work\n",
       "58        1  0.839191            would\n",
       "58        3  0.160941            would\n",
       "2748      3  0.978956             wscc\n",
       "1098      1  0.988893            yahoo\n",
       "\n",
       "[244 rows x 3 columns], R=30, lambda_step=0.01, plot_opts={'xlab': 'PC1', 'ylab': 'PC2'}, topic_order=[1, 2, 3])"
      ]
     },
     "execution_count": 33,
     "metadata": {},
     "output_type": "execute_result"
    }
   ],
   "source": [
    "vis"
   ]
  },
  {
   "cell_type": "markdown",
   "id": "0688a977",
   "metadata": {
    "papermill": {
     "duration": 0.0776,
     "end_time": "2022-04-16T02:54:02.500561",
     "exception": false,
     "start_time": "2022-04-16T02:54:02.422961",
     "status": "completed"
    },
    "tags": []
   },
   "source": [
    "# ------------------------------ END OF PART 1 --------------------------------------"
   ]
  },
  {
   "cell_type": "code",
   "execution_count": 34,
   "id": "61e85b75",
   "metadata": {
    "execution": {
     "iopub.execute_input": "2022-04-16T02:54:02.659379Z",
     "iopub.status.busy": "2022-04-16T02:54:02.658661Z",
     "iopub.status.idle": "2022-04-16T02:54:02.677689Z",
     "shell.execute_reply": "2022-04-16T02:54:02.677111Z"
    },
    "papermill": {
     "duration": 0.100373,
     "end_time": "2022-04-16T02:54:02.679467",
     "exception": false,
     "start_time": "2022-04-16T02:54:02.579094",
     "status": "completed"
    },
    "tags": []
   },
   "outputs": [
    {
     "data": {
      "text/html": [
       "<div>\n",
       "<style scoped>\n",
       "    .dataframe tbody tr th:only-of-type {\n",
       "        vertical-align: middle;\n",
       "    }\n",
       "\n",
       "    .dataframe tbody tr th {\n",
       "        vertical-align: top;\n",
       "    }\n",
       "\n",
       "    .dataframe thead th {\n",
       "        text-align: right;\n",
       "    }\n",
       "</style>\n",
       "<table border=\"1\" class=\"dataframe\">\n",
       "  <thead>\n",
       "    <tr style=\"text-align: right;\">\n",
       "      <th></th>\n",
       "      <th>Date</th>\n",
       "      <th>From</th>\n",
       "      <th>To</th>\n",
       "      <th>content</th>\n",
       "      <th>content_cleaned</th>\n",
       "      <th>clean_content</th>\n",
       "      <th>cluster</th>\n",
       "    </tr>\n",
       "  </thead>\n",
       "  <tbody>\n",
       "    <tr>\n",
       "      <th>0</th>\n",
       "      <td>2001-05-14 16:39:00</td>\n",
       "      <td>frozenset({'phillip.allen@enron.com'})</td>\n",
       "      <td>frozenset({'tim.belden@enron.com'})</td>\n",
       "      <td>Here is our forecast\\n\\n</td>\n",
       "      <td>[forecast]</td>\n",
       "      <td>forecast</td>\n",
       "      <td>1</td>\n",
       "    </tr>\n",
       "    <tr>\n",
       "      <th>1</th>\n",
       "      <td>2001-05-04 13:51:00</td>\n",
       "      <td>frozenset({'phillip.allen@enron.com'})</td>\n",
       "      <td>frozenset({'john.lavorato@enron.com'})</td>\n",
       "      <td>Traveling to have a business meeting takes the...</td>\n",
       "      <td>[traveling, business, meeting, take, fun, trip...</td>\n",
       "      <td>traveling business meeting takes fun trip espe...</td>\n",
       "      <td>1</td>\n",
       "    </tr>\n",
       "    <tr>\n",
       "      <th>2</th>\n",
       "      <td>2000-10-18 03:00:00</td>\n",
       "      <td>frozenset({'phillip.allen@enron.com'})</td>\n",
       "      <td>frozenset({'leah.arsdall@enron.com'})</td>\n",
       "      <td>test successful.  way to go!!!</td>\n",
       "      <td>[test, successful, way, go]</td>\n",
       "      <td>test successful way go</td>\n",
       "      <td>1</td>\n",
       "    </tr>\n",
       "    <tr>\n",
       "      <th>3</th>\n",
       "      <td>2000-10-23 06:13:00</td>\n",
       "      <td>frozenset({'phillip.allen@enron.com'})</td>\n",
       "      <td>frozenset({'randall.gay@enron.com'})</td>\n",
       "      <td>Randy,\\n\\n Can you send me a schedule of the s...</td>\n",
       "      <td>[randy, send, schedule, salary, level, everyon...</td>\n",
       "      <td>randy send schedule salary level everyone sche...</td>\n",
       "      <td>1</td>\n",
       "    </tr>\n",
       "    <tr>\n",
       "      <th>4</th>\n",
       "      <td>2000-08-31 05:07:00</td>\n",
       "      <td>frozenset({'phillip.allen@enron.com'})</td>\n",
       "      <td>frozenset({'greg.piper@enron.com'})</td>\n",
       "      <td>Let's shoot for Tuesday at 11:45.</td>\n",
       "      <td>[let, shoot, tuesday]</td>\n",
       "      <td>let shoot tuesday</td>\n",
       "      <td>1</td>\n",
       "    </tr>\n",
       "    <tr>\n",
       "      <th>5</th>\n",
       "      <td>2000-08-31 04:17:00</td>\n",
       "      <td>frozenset({'phillip.allen@enron.com'})</td>\n",
       "      <td>frozenset({'greg.piper@enron.com'})</td>\n",
       "      <td>Greg,\\n\\n How about either next Tuesday or Thu...</td>\n",
       "      <td>[greg, either, next, tuesday, thursday, phillip]</td>\n",
       "      <td>greg either next tuesday thursday phillip</td>\n",
       "      <td>1</td>\n",
       "    </tr>\n",
       "    <tr>\n",
       "      <th>6</th>\n",
       "      <td>2000-08-22 07:44:00</td>\n",
       "      <td>frozenset({'phillip.allen@enron.com'})</td>\n",
       "      <td>frozenset({'john.shafer@enron.com', 'david.l.j...</td>\n",
       "      <td>Please cc the following distribution list with...</td>\n",
       "      <td>[please, following, distribution, list, update...</td>\n",
       "      <td>please cc following distribution list updates ...</td>\n",
       "      <td>2</td>\n",
       "    </tr>\n",
       "    <tr>\n",
       "      <th>7</th>\n",
       "      <td>2000-07-14 06:59:00</td>\n",
       "      <td>frozenset({'phillip.allen@enron.com'})</td>\n",
       "      <td>frozenset({'joyce.teixeira@enron.com'})</td>\n",
       "      <td>any morning between 10 and 11:30</td>\n",
       "      <td>[morning]</td>\n",
       "      <td>morning</td>\n",
       "      <td>1</td>\n",
       "    </tr>\n",
       "    <tr>\n",
       "      <th>8</th>\n",
       "      <td>2000-10-17 02:26:00</td>\n",
       "      <td>frozenset({'phillip.allen@enron.com'})</td>\n",
       "      <td>frozenset({'mark.scott@enron.com'})</td>\n",
       "      <td>1. login:  pallen pw: ke9davis\\n\\n I don't thi...</td>\n",
       "      <td>[login, pallen, pw, ke, davis, think, required...</td>\n",
       "      <td>login pallen pw ke davis think required isp st...</td>\n",
       "      <td>1</td>\n",
       "    </tr>\n",
       "    <tr>\n",
       "      <th>9</th>\n",
       "      <td>2000-10-16 06:44:00</td>\n",
       "      <td>frozenset({'phillip.allen@enron.com'})</td>\n",
       "      <td>frozenset({'zimam@enron.com'})</td>\n",
       "      <td>---------------------- Forwarded by Phillip K ...</td>\n",
       "      <td>[forwarded, phillip, k, allen, hou, ect, pm, b...</td>\n",
       "      <td>forwarded phillip k allen hou ect pm buckner b...</td>\n",
       "      <td>1</td>\n",
       "    </tr>\n",
       "  </tbody>\n",
       "</table>\n",
       "</div>"
      ],
      "text/plain": [
       "                 Date                                    From  \\\n",
       "0 2001-05-14 16:39:00  frozenset({'phillip.allen@enron.com'})   \n",
       "1 2001-05-04 13:51:00  frozenset({'phillip.allen@enron.com'})   \n",
       "2 2000-10-18 03:00:00  frozenset({'phillip.allen@enron.com'})   \n",
       "3 2000-10-23 06:13:00  frozenset({'phillip.allen@enron.com'})   \n",
       "4 2000-08-31 05:07:00  frozenset({'phillip.allen@enron.com'})   \n",
       "5 2000-08-31 04:17:00  frozenset({'phillip.allen@enron.com'})   \n",
       "6 2000-08-22 07:44:00  frozenset({'phillip.allen@enron.com'})   \n",
       "7 2000-07-14 06:59:00  frozenset({'phillip.allen@enron.com'})   \n",
       "8 2000-10-17 02:26:00  frozenset({'phillip.allen@enron.com'})   \n",
       "9 2000-10-16 06:44:00  frozenset({'phillip.allen@enron.com'})   \n",
       "\n",
       "                                                  To  \\\n",
       "0                frozenset({'tim.belden@enron.com'})   \n",
       "1             frozenset({'john.lavorato@enron.com'})   \n",
       "2              frozenset({'leah.arsdall@enron.com'})   \n",
       "3               frozenset({'randall.gay@enron.com'})   \n",
       "4                frozenset({'greg.piper@enron.com'})   \n",
       "5                frozenset({'greg.piper@enron.com'})   \n",
       "6  frozenset({'john.shafer@enron.com', 'david.l.j...   \n",
       "7            frozenset({'joyce.teixeira@enron.com'})   \n",
       "8                frozenset({'mark.scott@enron.com'})   \n",
       "9                     frozenset({'zimam@enron.com'})   \n",
       "\n",
       "                                             content  \\\n",
       "0                          Here is our forecast\\n\\n    \n",
       "1  Traveling to have a business meeting takes the...   \n",
       "2                     test successful.  way to go!!!   \n",
       "3  Randy,\\n\\n Can you send me a schedule of the s...   \n",
       "4                Let's shoot for Tuesday at 11:45.     \n",
       "5  Greg,\\n\\n How about either next Tuesday or Thu...   \n",
       "6  Please cc the following distribution list with...   \n",
       "7                   any morning between 10 and 11:30   \n",
       "8  1. login:  pallen pw: ke9davis\\n\\n I don't thi...   \n",
       "9  ---------------------- Forwarded by Phillip K ...   \n",
       "\n",
       "                                     content_cleaned  \\\n",
       "0                                         [forecast]   \n",
       "1  [traveling, business, meeting, take, fun, trip...   \n",
       "2                        [test, successful, way, go]   \n",
       "3  [randy, send, schedule, salary, level, everyon...   \n",
       "4                              [let, shoot, tuesday]   \n",
       "5   [greg, either, next, tuesday, thursday, phillip]   \n",
       "6  [please, following, distribution, list, update...   \n",
       "7                                          [morning]   \n",
       "8  [login, pallen, pw, ke, davis, think, required...   \n",
       "9  [forwarded, phillip, k, allen, hou, ect, pm, b...   \n",
       "\n",
       "                                       clean_content  cluster  \n",
       "0                                           forecast        1  \n",
       "1  traveling business meeting takes fun trip espe...        1  \n",
       "2                             test successful way go        1  \n",
       "3  randy send schedule salary level everyone sche...        1  \n",
       "4                                  let shoot tuesday        1  \n",
       "5          greg either next tuesday thursday phillip        1  \n",
       "6  please cc following distribution list updates ...        2  \n",
       "7                                            morning        1  \n",
       "8  login pallen pw ke davis think required isp st...        1  \n",
       "9  forwarded phillip k allen hou ect pm buckner b...        1  "
      ]
     },
     "execution_count": 34,
     "metadata": {},
     "output_type": "execute_result"
    }
   ],
   "source": [
    "analysis_df.head(10)"
   ]
  },
  {
   "cell_type": "markdown",
   "id": "0d23efc1",
   "metadata": {
    "papermill": {
     "duration": 0.079079,
     "end_time": "2022-04-16T02:54:02.837666",
     "exception": false,
     "start_time": "2022-04-16T02:54:02.758587",
     "status": "completed"
    },
    "tags": []
   },
   "source": [
    "# ------------------------------PART 2 ---------------------------------\n",
    "\n",
    "# Let us see some basic Temporal Analysis & Trends using Emails and the Date Column"
   ]
  },
  {
   "cell_type": "markdown",
   "id": "46ea0b84",
   "metadata": {
    "papermill": {
     "duration": 0.079915,
     "end_time": "2022-04-16T02:54:02.997294",
     "exception": false,
     "start_time": "2022-04-16T02:54:02.917379",
     "status": "completed"
    },
    "tags": []
   },
   "source": [
    "### String Manipulation to convert the emails from a frozenset to List of emails."
   ]
  },
  {
   "cell_type": "code",
   "execution_count": 35,
   "id": "4d7c341b",
   "metadata": {
    "execution": {
     "iopub.execute_input": "2022-04-16T02:54:03.157559Z",
     "iopub.status.busy": "2022-04-16T02:54:03.156603Z",
     "iopub.status.idle": "2022-04-16T02:54:03.172096Z",
     "shell.execute_reply": "2022-04-16T02:54:03.171434Z"
    },
    "papermill": {
     "duration": 0.098586,
     "end_time": "2022-04-16T02:54:03.174682",
     "exception": false,
     "start_time": "2022-04-16T02:54:03.076096",
     "status": "completed"
    },
    "tags": []
   },
   "outputs": [
    {
     "name": "stderr",
     "output_type": "stream",
     "text": [
      "/opt/conda/lib/python3.7/site-packages/ipykernel_launcher.py:2: FutureWarning: The default value of regex will change from True to False in a future version.\n",
      "  \n"
     ]
    }
   ],
   "source": [
    "analysis_df['From'] = analysis_df['From'].str.replace('frozenset', '')\n",
    "analysis_df['From'] = analysis_df['From'].str.replace('[({})]','')\n",
    "analysis_df['From'] = analysis_df['From'].str.split(',')\n",
    "analysis_df['From'] = analysis_df['From'].apply(lambda x: ''.join(x))"
   ]
  },
  {
   "cell_type": "code",
   "execution_count": 36,
   "id": "89bded23",
   "metadata": {
    "execution": {
     "iopub.execute_input": "2022-04-16T02:54:03.338872Z",
     "iopub.status.busy": "2022-04-16T02:54:03.338561Z",
     "iopub.status.idle": "2022-04-16T02:54:03.351964Z",
     "shell.execute_reply": "2022-04-16T02:54:03.351115Z"
    },
    "papermill": {
     "duration": 0.097407,
     "end_time": "2022-04-16T02:54:03.353901",
     "exception": false,
     "start_time": "2022-04-16T02:54:03.256494",
     "status": "completed"
    },
    "tags": []
   },
   "outputs": [
    {
     "name": "stderr",
     "output_type": "stream",
     "text": [
      "/opt/conda/lib/python3.7/site-packages/ipykernel_launcher.py:2: FutureWarning: The default value of regex will change from True to False in a future version.\n",
      "  \n"
     ]
    }
   ],
   "source": [
    "analysis_df['To'] = analysis_df['To'].str.replace('frozenset', '')\n",
    "analysis_df['To'] = analysis_df['To'].str.replace('[({})]','')\n",
    "analysis_df['To'] = analysis_df['To'].str.split(',')"
   ]
  },
  {
   "cell_type": "markdown",
   "id": "8276cade",
   "metadata": {
    "papermill": {
     "duration": 0.07943,
     "end_time": "2022-04-16T02:54:03.512869",
     "exception": false,
     "start_time": "2022-04-16T02:54:03.433439",
     "status": "completed"
    },
    "tags": []
   },
   "source": [
    "## Let us add year, month, Day of Week, weekday/weekend flag to our dataframe for Temporal Analysis"
   ]
  },
  {
   "cell_type": "code",
   "execution_count": 37,
   "id": "5bf0ab98",
   "metadata": {
    "execution": {
     "iopub.execute_input": "2022-04-16T02:54:03.673947Z",
     "iopub.status.busy": "2022-04-16T02:54:03.673633Z",
     "iopub.status.idle": "2022-04-16T02:54:03.685867Z",
     "shell.execute_reply": "2022-04-16T02:54:03.684908Z"
    },
    "papermill": {
     "duration": 0.095064,
     "end_time": "2022-04-16T02:54:03.687902",
     "exception": false,
     "start_time": "2022-04-16T02:54:03.592838",
     "status": "completed"
    },
    "tags": []
   },
   "outputs": [],
   "source": [
    "analysis_df['year'] = analysis_df['Date'].dt.year\n",
    "analysis_df['month'] = analysis_df['Date'].dt.month\n",
    "analysis_df['dow'] = analysis_df['Date'].dt.dayofweek\n",
    "analysis_df['is_weekend'] = analysis_df.dow.apply(lambda x: 1 if x in [5,6] else 0)\n",
    "analysis_df['Just Date'] = analysis_df.Date.dt.date"
   ]
  },
  {
   "cell_type": "markdown",
   "id": "7cebb376",
   "metadata": {
    "papermill": {
     "duration": 0.079359,
     "end_time": "2022-04-16T02:54:03.847220",
     "exception": false,
     "start_time": "2022-04-16T02:54:03.767861",
     "status": "completed"
    },
    "tags": []
   },
   "source": [
    "### Out going Emails Analysis"
   ]
  },
  {
   "cell_type": "code",
   "execution_count": 38,
   "id": "f08737af",
   "metadata": {
    "execution": {
     "iopub.execute_input": "2022-04-16T02:54:04.010766Z",
     "iopub.status.busy": "2022-04-16T02:54:04.010462Z",
     "iopub.status.idle": "2022-04-16T02:54:04.018687Z",
     "shell.execute_reply": "2022-04-16T02:54:04.018117Z"
    },
    "papermill": {
     "duration": 0.092968,
     "end_time": "2022-04-16T02:54:04.020418",
     "exception": false,
     "start_time": "2022-04-16T02:54:03.927450",
     "status": "completed"
    },
    "tags": []
   },
   "outputs": [
    {
     "data": {
      "text/plain": [
       "'phillip.allen@enron.com'                    944\n",
       "'critical.notice@enron.com'                    5\n",
       "'ina.rangel@enron.com'                         4\n",
       "'announce@inbox.nytimes.com'                   2\n",
       "'ei_editor@ftenergy.com'                       2\n",
       "'aod@newsdata.com'                             2\n",
       "'webmaster@earnings.com'                       2\n",
       "'sarah.novosel@enron.com'                      2\n",
       "'jsmith@austintx.com'                          2\n",
       "'kim.ward@enron.com'                           1\n",
       "'grensheltr@aol.com'                           1\n",
       "'yahoo-delivers@yahoo-inc.com'                 1\n",
       "'perfmgmt@enron.com'                           1\n",
       "'alyse.herasimchuk@enron.com'                  1\n",
       "'matt@fastpacket.net'                          1\n",
       "'lisa.jacobson@enron.com'                      1\n",
       "'christi.nicolay@enron.com'                    1\n",
       "'richard.shapiro@enron.com'                    1\n",
       "'gthorse@keyad.com'                            1\n",
       "'tiffany.miller@enron.com'                     1\n",
       "'philip.polsky@enron.com'                      1\n",
       "'jfreeman@ssm.net'                             1\n",
       "'calxa@aol.com'                                1\n",
       "'frank.hayden@enron.com'                       1\n",
       "'billc@greenbuilder.com'                       1\n",
       "'rob_tom@freenet.carleton.ca'                  1\n",
       "'tim.heizenrader@enron.com'                    1\n",
       "'subscriptions@intelligencepress.com'          1\n",
       "'bobregon@bga.com'                             1\n",
       "'tracy.arthur@enron.com'                       1\n",
       "'stephanie.miller@enron.com'                   1\n",
       "'public.relations@enron.com'                   1\n",
       "'bounce-news-932653@lists.autoweb.com'         1\n",
       "'yild@zdemail.zdlists.com'                     1\n",
       "'paul.kaufman@enron.com'                       1\n",
       "'rebecca.cantrell@enron.com'                   1\n",
       "'market-reply@listserv.dowjones.com'           1\n",
       "'1.11913372.-2@multexinvestornetwork.com'      1\n",
       "'mark.whitt@enron.com'                         1\n",
       "Name: From, dtype: int64"
      ]
     },
     "execution_count": 38,
     "metadata": {},
     "output_type": "execute_result"
    }
   ],
   "source": [
    "analysis_df['From'].value_counts() ### Out going data is clearly skewed"
   ]
  },
  {
   "cell_type": "markdown",
   "id": "a3d48864",
   "metadata": {
    "papermill": {
     "duration": 0.08151,
     "end_time": "2022-04-16T02:54:04.182647",
     "exception": false,
     "start_time": "2022-04-16T02:54:04.101137",
     "status": "completed"
    },
    "tags": []
   },
   "source": [
    "### Only Phillip sent out going emails on the weekend. As shown below:-"
   ]
  },
  {
   "cell_type": "code",
   "execution_count": 39,
   "id": "4b5065b2",
   "metadata": {
    "execution": {
     "iopub.execute_input": "2022-04-16T02:54:04.345732Z",
     "iopub.status.busy": "2022-04-16T02:54:04.345278Z",
     "iopub.status.idle": "2022-04-16T02:54:04.356191Z",
     "shell.execute_reply": "2022-04-16T02:54:04.355581Z"
    },
    "papermill": {
     "duration": 0.095195,
     "end_time": "2022-04-16T02:54:04.357990",
     "exception": false,
     "start_time": "2022-04-16T02:54:04.262795",
     "status": "completed"
    },
    "tags": []
   },
   "outputs": [
    {
     "data": {
      "text/plain": [
       "'phillip.allen@enron.com'    20\n",
       "Name: From, dtype: int64"
      ]
     },
     "execution_count": 39,
     "metadata": {},
     "output_type": "execute_result"
    }
   ],
   "source": [
    "analysis_df[analysis_df.is_weekend == 1]['From'].value_counts()"
   ]
  },
  {
   "cell_type": "markdown",
   "id": "dd923969",
   "metadata": {
    "papermill": {
     "duration": 0.080066,
     "end_time": "2022-04-16T02:54:04.518339",
     "exception": false,
     "start_time": "2022-04-16T02:54:04.438273",
     "status": "completed"
    },
    "tags": []
   },
   "source": [
    "\n",
    "### First lets see the Monthly average outgoing calls data "
   ]
  },
  {
   "cell_type": "code",
   "execution_count": 40,
   "id": "0c92f142",
   "metadata": {
    "execution": {
     "iopub.execute_input": "2022-04-16T02:54:04.681345Z",
     "iopub.status.busy": "2022-04-16T02:54:04.680863Z",
     "iopub.status.idle": "2022-04-16T02:54:04.691729Z",
     "shell.execute_reply": "2022-04-16T02:54:04.690805Z"
    },
    "papermill": {
     "duration": 0.094942,
     "end_time": "2022-04-16T02:54:04.693911",
     "exception": false,
     "start_time": "2022-04-16T02:54:04.598969",
     "status": "completed"
    },
    "tags": []
   },
   "outputs": [],
   "source": [
    "analysis_df_2 = analysis_df.groupby(by=['year','month','From']).size().reset_index(name=\"Total Month Calls\")\n",
    "analysis_df_2.sort_values(by=['Total Month Calls'],ascending=[False],inplace=True)\n",
    "analysis_df_2.reset_index(drop=True,inplace=True)"
   ]
  },
  {
   "cell_type": "code",
   "execution_count": 41,
   "id": "bc39fdf1",
   "metadata": {
    "execution": {
     "iopub.execute_input": "2022-04-16T02:54:04.857540Z",
     "iopub.status.busy": "2022-04-16T02:54:04.857236Z",
     "iopub.status.idle": "2022-04-16T02:54:04.867280Z",
     "shell.execute_reply": "2022-04-16T02:54:04.866488Z"
    },
    "papermill": {
     "duration": 0.09482,
     "end_time": "2022-04-16T02:54:04.869407",
     "exception": false,
     "start_time": "2022-04-16T02:54:04.774587",
     "status": "completed"
    },
    "tags": []
   },
   "outputs": [
    {
     "data": {
      "text/html": [
       "<div>\n",
       "<style scoped>\n",
       "    .dataframe tbody tr th:only-of-type {\n",
       "        vertical-align: middle;\n",
       "    }\n",
       "\n",
       "    .dataframe tbody tr th {\n",
       "        vertical-align: top;\n",
       "    }\n",
       "\n",
       "    .dataframe thead th {\n",
       "        text-align: right;\n",
       "    }\n",
       "</style>\n",
       "<table border=\"1\" class=\"dataframe\">\n",
       "  <thead>\n",
       "    <tr style=\"text-align: right;\">\n",
       "      <th></th>\n",
       "      <th>year</th>\n",
       "      <th>month</th>\n",
       "      <th>From</th>\n",
       "      <th>Total Month Calls</th>\n",
       "    </tr>\n",
       "  </thead>\n",
       "  <tbody>\n",
       "    <tr>\n",
       "      <th>0</th>\n",
       "      <td>2001</td>\n",
       "      <td>4</td>\n",
       "      <td>'phillip.allen@enron.com'</td>\n",
       "      <td>129</td>\n",
       "    </tr>\n",
       "    <tr>\n",
       "      <th>1</th>\n",
       "      <td>2000</td>\n",
       "      <td>8</td>\n",
       "      <td>'phillip.allen@enron.com'</td>\n",
       "      <td>101</td>\n",
       "    </tr>\n",
       "    <tr>\n",
       "      <th>2</th>\n",
       "      <td>2001</td>\n",
       "      <td>3</td>\n",
       "      <td>'phillip.allen@enron.com'</td>\n",
       "      <td>89</td>\n",
       "    </tr>\n",
       "    <tr>\n",
       "      <th>3</th>\n",
       "      <td>2000</td>\n",
       "      <td>9</td>\n",
       "      <td>'phillip.allen@enron.com'</td>\n",
       "      <td>84</td>\n",
       "    </tr>\n",
       "  </tbody>\n",
       "</table>\n",
       "</div>"
      ],
      "text/plain": [
       "   year  month                       From  Total Month Calls\n",
       "0  2001      4  'phillip.allen@enron.com'                129\n",
       "1  2000      8  'phillip.allen@enron.com'                101\n",
       "2  2001      3  'phillip.allen@enron.com'                 89\n",
       "3  2000      9  'phillip.allen@enron.com'                 84"
      ]
     },
     "execution_count": 41,
     "metadata": {},
     "output_type": "execute_result"
    }
   ],
   "source": [
    "analysis_df_2.head(4)"
   ]
  },
  {
   "cell_type": "markdown",
   "id": "09e83111",
   "metadata": {
    "papermill": {
     "duration": 0.08149,
     "end_time": "2022-04-16T02:54:05.032796",
     "exception": false,
     "start_time": "2022-04-16T02:54:04.951306",
     "status": "completed"
    },
    "tags": []
   },
   "source": [
    "### As we can see below, On an average, Philip Allen has the highest Monthly average outgoing Calls, followed by emails from:-\n",
    "### 'critical.notice@enron.com', 'aod@newsdata.com', 'jsmith@austintx.com'\n"
   ]
  },
  {
   "cell_type": "code",
   "execution_count": 42,
   "id": "4c44c2d9",
   "metadata": {
    "execution": {
     "iopub.execute_input": "2022-04-16T02:54:05.199518Z",
     "iopub.status.busy": "2022-04-16T02:54:05.198523Z",
     "iopub.status.idle": "2022-04-16T02:54:05.217756Z",
     "shell.execute_reply": "2022-04-16T02:54:05.216933Z"
    },
    "papermill": {
     "duration": 0.104174,
     "end_time": "2022-04-16T02:54:05.219903",
     "exception": false,
     "start_time": "2022-04-16T02:54:05.115729",
     "status": "completed"
    },
    "tags": []
   },
   "outputs": [
    {
     "data": {
      "text/html": [
       "<div>\n",
       "<style scoped>\n",
       "    .dataframe tbody tr th:only-of-type {\n",
       "        vertical-align: middle;\n",
       "    }\n",
       "\n",
       "    .dataframe tbody tr th {\n",
       "        vertical-align: top;\n",
       "    }\n",
       "\n",
       "    .dataframe thead th {\n",
       "        text-align: right;\n",
       "    }\n",
       "</style>\n",
       "<table border=\"1\" class=\"dataframe\">\n",
       "  <thead>\n",
       "    <tr style=\"text-align: right;\">\n",
       "      <th></th>\n",
       "      <th>From</th>\n",
       "      <th>Avg. Monthly Calls</th>\n",
       "    </tr>\n",
       "  </thead>\n",
       "  <tbody>\n",
       "    <tr>\n",
       "      <th>25</th>\n",
       "      <td>'phillip.allen@enron.com'</td>\n",
       "      <td>50.0</td>\n",
       "    </tr>\n",
       "    <tr>\n",
       "      <th>9</th>\n",
       "      <td>'critical.notice@enron.com'</td>\n",
       "      <td>5.0</td>\n",
       "    </tr>\n",
       "    <tr>\n",
       "      <th>3</th>\n",
       "      <td>'aod@newsdata.com'</td>\n",
       "      <td>2.0</td>\n",
       "    </tr>\n",
       "    <tr>\n",
       "      <th>16</th>\n",
       "      <td>'jsmith@austintx.com'</td>\n",
       "      <td>2.0</td>\n",
       "    </tr>\n",
       "    <tr>\n",
       "      <th>30</th>\n",
       "      <td>'sarah.novosel@enron.com'</td>\n",
       "      <td>2.0</td>\n",
       "    </tr>\n",
       "    <tr>\n",
       "      <th>0</th>\n",
       "      <td>'1.11913372.-2@multexinvestornetwork.com'</td>\n",
       "      <td>1.0</td>\n",
       "    </tr>\n",
       "    <tr>\n",
       "      <th>29</th>\n",
       "      <td>'rob_tom@freenet.carleton.ca'</td>\n",
       "      <td>1.0</td>\n",
       "    </tr>\n",
       "    <tr>\n",
       "      <th>23</th>\n",
       "      <td>'perfmgmt@enron.com'</td>\n",
       "      <td>1.0</td>\n",
       "    </tr>\n",
       "    <tr>\n",
       "      <th>24</th>\n",
       "      <td>'philip.polsky@enron.com'</td>\n",
       "      <td>1.0</td>\n",
       "    </tr>\n",
       "    <tr>\n",
       "      <th>26</th>\n",
       "      <td>'public.relations@enron.com'</td>\n",
       "      <td>1.0</td>\n",
       "    </tr>\n",
       "  </tbody>\n",
       "</table>\n",
       "</div>"
      ],
      "text/plain": [
       "                                         From  Avg. Monthly Calls\n",
       "25                  'phillip.allen@enron.com'                50.0\n",
       "9                 'critical.notice@enron.com'                 5.0\n",
       "3                          'aod@newsdata.com'                 2.0\n",
       "16                      'jsmith@austintx.com'                 2.0\n",
       "30                  'sarah.novosel@enron.com'                 2.0\n",
       "0   '1.11913372.-2@multexinvestornetwork.com'                 1.0\n",
       "29              'rob_tom@freenet.carleton.ca'                 1.0\n",
       "23                       'perfmgmt@enron.com'                 1.0\n",
       "24                  'philip.polsky@enron.com'                 1.0\n",
       "26               'public.relations@enron.com'                 1.0"
      ]
     },
     "execution_count": 42,
     "metadata": {},
     "output_type": "execute_result"
    }
   ],
   "source": [
    "df_month_avg_outgoing_user = analysis_df_2.groupby(by=['From']).agg({'Total Month Calls':'mean'}).reset_index()\n",
    "df_month_avg_outgoing_user.rename(columns={'Total Month Calls':'Avg. Monthly Calls'},inplace=True)\n",
    "df_month_avg_outgoing_user['Avg. Monthly Calls'] = df_month_avg_outgoing_user['Avg. Monthly Calls'].round(0)\n",
    "df_month_avg_outgoing_user.sort_values(by=['Avg. Monthly Calls'],ascending=False,inplace=True)\n",
    "df_month_avg_outgoing_user.head(10)"
   ]
  },
  {
   "cell_type": "markdown",
   "id": "5d68b989",
   "metadata": {
    "papermill": {
     "duration": 0.083948,
     "end_time": "2022-04-16T02:54:05.385867",
     "exception": false,
     "start_time": "2022-04-16T02:54:05.301919",
     "status": "completed"
    },
    "tags": []
   },
   "source": [
    "## As we can see that the outgoing data is very Skewed so doesn't make sense to look more temporal analysis of out going emails. Most outgoing emails are done by Philip Allen"
   ]
  },
  {
   "cell_type": "code",
   "execution_count": 43,
   "id": "12ca0273",
   "metadata": {
    "execution": {
     "iopub.execute_input": "2022-04-16T02:54:05.554853Z",
     "iopub.status.busy": "2022-04-16T02:54:05.554276Z",
     "iopub.status.idle": "2022-04-16T02:54:05.571550Z",
     "shell.execute_reply": "2022-04-16T02:54:05.570933Z"
    },
    "papermill": {
     "duration": 0.104251,
     "end_time": "2022-04-16T02:54:05.573837",
     "exception": false,
     "start_time": "2022-04-16T02:54:05.469586",
     "status": "completed"
    },
    "tags": []
   },
   "outputs": [],
   "source": [
    "analysis_df_dow = analysis_df.groupby(by=['From','Just Date','dow']).size().reset_index(name='weekly total')\n",
    "analysis_df_dow_avg = analysis_df_dow.groupby(by=['From','dow']).agg({'weekly total':'mean'}).reset_index()\n",
    "analysis_df_dow_avg.rename(columns={'weekly total':'Avg. weekly calls'},inplace=True)\n",
    "analysis_df_dow_avg.sort_values(by=['Avg. weekly calls'],ascending=False,inplace=True)\n",
    "analysis_df_dow_avg_top = analysis_df_dow_avg.groupby(by=['From']).head(1).reset_index(drop=True)"
   ]
  },
  {
   "cell_type": "code",
   "execution_count": 44,
   "id": "3150a551",
   "metadata": {
    "execution": {
     "iopub.execute_input": "2022-04-16T02:54:05.740977Z",
     "iopub.status.busy": "2022-04-16T02:54:05.740370Z",
     "iopub.status.idle": "2022-04-16T02:54:05.748009Z",
     "shell.execute_reply": "2022-04-16T02:54:05.747133Z"
    },
    "papermill": {
     "duration": 0.09315,
     "end_time": "2022-04-16T02:54:05.749981",
     "exception": false,
     "start_time": "2022-04-16T02:54:05.656831",
     "status": "completed"
    },
    "tags": []
   },
   "outputs": [
    {
     "data": {
      "text/plain": [
       "From                 'phillip.allen@enron.com'\n",
       "dow                                          0\n",
       "Avg. weekly calls                     4.384615\n",
       "Name: 0, dtype: object"
      ]
     },
     "execution_count": 44,
     "metadata": {},
     "output_type": "execute_result"
    }
   ],
   "source": [
    "analysis_df_dow_avg_top.iloc[0]"
   ]
  },
  {
   "cell_type": "markdown",
   "id": "29a1576d",
   "metadata": {
    "papermill": {
     "duration": 0.082089,
     "end_time": "2022-04-16T02:54:05.914380",
     "exception": false,
     "start_time": "2022-04-16T02:54:05.832291",
     "status": "completed"
    },
    "tags": []
   },
   "source": [
    "### ^^ As we can see above, Phillip Allen, on an average, sends Highest volume of composed emails on a Monday as compared to any other workday."
   ]
  },
  {
   "cell_type": "code",
   "execution_count": null,
   "id": "31144593",
   "metadata": {
    "papermill": {
     "duration": 0.082121,
     "end_time": "2022-04-16T02:54:06.079642",
     "exception": false,
     "start_time": "2022-04-16T02:54:05.997521",
     "status": "completed"
    },
    "tags": []
   },
   "outputs": [],
   "source": []
  }
 ],
 "metadata": {
  "kernelspec": {
   "display_name": "Python 3",
   "language": "python",
   "name": "python3"
  },
  "language_info": {
   "codemirror_mode": {
    "name": "ipython",
    "version": 3
   },
   "file_extension": ".py",
   "mimetype": "text/x-python",
   "name": "python",
   "nbconvert_exporter": "python",
   "pygments_lexer": "ipython3",
   "version": "3.7.12"
  },
  "papermill": {
   "default_parameters": {},
   "duration": 75.208739,
   "end_time": "2022-04-16T02:54:08.783502",
   "environment_variables": {},
   "exception": null,
   "input_path": "__notebook__.ipynb",
   "output_path": "__notebook__.ipynb",
   "parameters": {},
   "start_time": "2022-04-16T02:52:53.574763",
   "version": "2.3.4"
  }
 },
 "nbformat": 4,
 "nbformat_minor": 5
}
